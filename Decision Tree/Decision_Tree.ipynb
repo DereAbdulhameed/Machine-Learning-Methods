{
  "nbformat": 4,
  "nbformat_minor": 0,
  "metadata": {
    "colab": {
      "name": "Decision Tree.ipynb",
      "provenance": [],
      "collapsed_sections": []
    },
    "kernelspec": {
      "name": "python3",
      "display_name": "Python 3"
    },
    "language_info": {
      "name": "python"
    }
  },
  "cells": [
    {
      "cell_type": "code",
      "execution_count": 72,
      "metadata": {
        "id": "kJlB80N3608e"
      },
      "outputs": [],
      "source": [
        "# import necessary libraries\n",
        "import pandas as pd\n",
        "import numpy as np\n",
        "from sklearn.preprocessing import LabelEncoder"
      ]
    },
    {
      "cell_type": "code",
      "source": [
        "url = 'https://raw.githubusercontent.com/DereAbdulhameed/Machine-Learning-Methods/main/survey_lung_cancer.csv'\n",
        "data = pd.read_csv(url)"
      ],
      "metadata": {
        "id": "MoaWnu_f7LEb"
      },
      "execution_count": 73,
      "outputs": []
    },
    {
      "cell_type": "code",
      "source": [
        "data.head()"
      ],
      "metadata": {
        "colab": {
          "base_uri": "https://localhost:8080/",
          "height": 288
        },
        "id": "vJkWLTFzg-65",
        "outputId": "2213fc40-50bf-4ec6-a4d6-06b5ceb0336f"
      },
      "execution_count": 74,
      "outputs": [
        {
          "output_type": "execute_result",
          "data": {
            "text/plain": [
              "  GENDER  AGE  SMOKING  YELLOW_FINGERS  ANXIETY  PEER_PRESSURE  \\\n",
              "0      M   69        1               2        2              1   \n",
              "1      M   74        2               1        1              1   \n",
              "2      F   59        1               1        1              2   \n",
              "3      M   63        2               2        2              1   \n",
              "4      F   63        1               2        1              1   \n",
              "\n",
              "   CHRONIC DISEASE  FATIGUE   ALLERGY   WHEEZING  ALCOHOL CONSUMING  COUGHING  \\\n",
              "0                1         2         1         2                  2         2   \n",
              "1                2         2         2         1                  1         1   \n",
              "2                1         2         1         2                  1         2   \n",
              "3                1         1         1         1                  2         1   \n",
              "4                1         1         1         2                  1         2   \n",
              "\n",
              "   SHORTNESS OF BREATH  SWALLOWING DIFFICULTY  CHEST PAIN LUNG_CANCER  \n",
              "0                    2                      2           2         YES  \n",
              "1                    2                      2           2         YES  \n",
              "2                    2                      1           2          NO  \n",
              "3                    1                      2           2          NO  \n",
              "4                    2                      1           1          NO  "
            ],
            "text/html": [
              "\n",
              "  <div id=\"df-3b6d5fdf-5115-4f23-b0fb-41c628eb0194\">\n",
              "    <div class=\"colab-df-container\">\n",
              "      <div>\n",
              "<style scoped>\n",
              "    .dataframe tbody tr th:only-of-type {\n",
              "        vertical-align: middle;\n",
              "    }\n",
              "\n",
              "    .dataframe tbody tr th {\n",
              "        vertical-align: top;\n",
              "    }\n",
              "\n",
              "    .dataframe thead th {\n",
              "        text-align: right;\n",
              "    }\n",
              "</style>\n",
              "<table border=\"1\" class=\"dataframe\">\n",
              "  <thead>\n",
              "    <tr style=\"text-align: right;\">\n",
              "      <th></th>\n",
              "      <th>GENDER</th>\n",
              "      <th>AGE</th>\n",
              "      <th>SMOKING</th>\n",
              "      <th>YELLOW_FINGERS</th>\n",
              "      <th>ANXIETY</th>\n",
              "      <th>PEER_PRESSURE</th>\n",
              "      <th>CHRONIC DISEASE</th>\n",
              "      <th>FATIGUE</th>\n",
              "      <th>ALLERGY</th>\n",
              "      <th>WHEEZING</th>\n",
              "      <th>ALCOHOL CONSUMING</th>\n",
              "      <th>COUGHING</th>\n",
              "      <th>SHORTNESS OF BREATH</th>\n",
              "      <th>SWALLOWING DIFFICULTY</th>\n",
              "      <th>CHEST PAIN</th>\n",
              "      <th>LUNG_CANCER</th>\n",
              "    </tr>\n",
              "  </thead>\n",
              "  <tbody>\n",
              "    <tr>\n",
              "      <th>0</th>\n",
              "      <td>M</td>\n",
              "      <td>69</td>\n",
              "      <td>1</td>\n",
              "      <td>2</td>\n",
              "      <td>2</td>\n",
              "      <td>1</td>\n",
              "      <td>1</td>\n",
              "      <td>2</td>\n",
              "      <td>1</td>\n",
              "      <td>2</td>\n",
              "      <td>2</td>\n",
              "      <td>2</td>\n",
              "      <td>2</td>\n",
              "      <td>2</td>\n",
              "      <td>2</td>\n",
              "      <td>YES</td>\n",
              "    </tr>\n",
              "    <tr>\n",
              "      <th>1</th>\n",
              "      <td>M</td>\n",
              "      <td>74</td>\n",
              "      <td>2</td>\n",
              "      <td>1</td>\n",
              "      <td>1</td>\n",
              "      <td>1</td>\n",
              "      <td>2</td>\n",
              "      <td>2</td>\n",
              "      <td>2</td>\n",
              "      <td>1</td>\n",
              "      <td>1</td>\n",
              "      <td>1</td>\n",
              "      <td>2</td>\n",
              "      <td>2</td>\n",
              "      <td>2</td>\n",
              "      <td>YES</td>\n",
              "    </tr>\n",
              "    <tr>\n",
              "      <th>2</th>\n",
              "      <td>F</td>\n",
              "      <td>59</td>\n",
              "      <td>1</td>\n",
              "      <td>1</td>\n",
              "      <td>1</td>\n",
              "      <td>2</td>\n",
              "      <td>1</td>\n",
              "      <td>2</td>\n",
              "      <td>1</td>\n",
              "      <td>2</td>\n",
              "      <td>1</td>\n",
              "      <td>2</td>\n",
              "      <td>2</td>\n",
              "      <td>1</td>\n",
              "      <td>2</td>\n",
              "      <td>NO</td>\n",
              "    </tr>\n",
              "    <tr>\n",
              "      <th>3</th>\n",
              "      <td>M</td>\n",
              "      <td>63</td>\n",
              "      <td>2</td>\n",
              "      <td>2</td>\n",
              "      <td>2</td>\n",
              "      <td>1</td>\n",
              "      <td>1</td>\n",
              "      <td>1</td>\n",
              "      <td>1</td>\n",
              "      <td>1</td>\n",
              "      <td>2</td>\n",
              "      <td>1</td>\n",
              "      <td>1</td>\n",
              "      <td>2</td>\n",
              "      <td>2</td>\n",
              "      <td>NO</td>\n",
              "    </tr>\n",
              "    <tr>\n",
              "      <th>4</th>\n",
              "      <td>F</td>\n",
              "      <td>63</td>\n",
              "      <td>1</td>\n",
              "      <td>2</td>\n",
              "      <td>1</td>\n",
              "      <td>1</td>\n",
              "      <td>1</td>\n",
              "      <td>1</td>\n",
              "      <td>1</td>\n",
              "      <td>2</td>\n",
              "      <td>1</td>\n",
              "      <td>2</td>\n",
              "      <td>2</td>\n",
              "      <td>1</td>\n",
              "      <td>1</td>\n",
              "      <td>NO</td>\n",
              "    </tr>\n",
              "  </tbody>\n",
              "</table>\n",
              "</div>\n",
              "      <button class=\"colab-df-convert\" onclick=\"convertToInteractive('df-3b6d5fdf-5115-4f23-b0fb-41c628eb0194')\"\n",
              "              title=\"Convert this dataframe to an interactive table.\"\n",
              "              style=\"display:none;\">\n",
              "        \n",
              "  <svg xmlns=\"http://www.w3.org/2000/svg\" height=\"24px\"viewBox=\"0 0 24 24\"\n",
              "       width=\"24px\">\n",
              "    <path d=\"M0 0h24v24H0V0z\" fill=\"none\"/>\n",
              "    <path d=\"M18.56 5.44l.94 2.06.94-2.06 2.06-.94-2.06-.94-.94-2.06-.94 2.06-2.06.94zm-11 1L8.5 8.5l.94-2.06 2.06-.94-2.06-.94L8.5 2.5l-.94 2.06-2.06.94zm10 10l.94 2.06.94-2.06 2.06-.94-2.06-.94-.94-2.06-.94 2.06-2.06.94z\"/><path d=\"M17.41 7.96l-1.37-1.37c-.4-.4-.92-.59-1.43-.59-.52 0-1.04.2-1.43.59L10.3 9.45l-7.72 7.72c-.78.78-.78 2.05 0 2.83L4 21.41c.39.39.9.59 1.41.59.51 0 1.02-.2 1.41-.59l7.78-7.78 2.81-2.81c.8-.78.8-2.07 0-2.86zM5.41 20L4 18.59l7.72-7.72 1.47 1.35L5.41 20z\"/>\n",
              "  </svg>\n",
              "      </button>\n",
              "      \n",
              "  <style>\n",
              "    .colab-df-container {\n",
              "      display:flex;\n",
              "      flex-wrap:wrap;\n",
              "      gap: 12px;\n",
              "    }\n",
              "\n",
              "    .colab-df-convert {\n",
              "      background-color: #E8F0FE;\n",
              "      border: none;\n",
              "      border-radius: 50%;\n",
              "      cursor: pointer;\n",
              "      display: none;\n",
              "      fill: #1967D2;\n",
              "      height: 32px;\n",
              "      padding: 0 0 0 0;\n",
              "      width: 32px;\n",
              "    }\n",
              "\n",
              "    .colab-df-convert:hover {\n",
              "      background-color: #E2EBFA;\n",
              "      box-shadow: 0px 1px 2px rgba(60, 64, 67, 0.3), 0px 1px 3px 1px rgba(60, 64, 67, 0.15);\n",
              "      fill: #174EA6;\n",
              "    }\n",
              "\n",
              "    [theme=dark] .colab-df-convert {\n",
              "      background-color: #3B4455;\n",
              "      fill: #D2E3FC;\n",
              "    }\n",
              "\n",
              "    [theme=dark] .colab-df-convert:hover {\n",
              "      background-color: #434B5C;\n",
              "      box-shadow: 0px 1px 3px 1px rgba(0, 0, 0, 0.15);\n",
              "      filter: drop-shadow(0px 1px 2px rgba(0, 0, 0, 0.3));\n",
              "      fill: #FFFFFF;\n",
              "    }\n",
              "  </style>\n",
              "\n",
              "      <script>\n",
              "        const buttonEl =\n",
              "          document.querySelector('#df-3b6d5fdf-5115-4f23-b0fb-41c628eb0194 button.colab-df-convert');\n",
              "        buttonEl.style.display =\n",
              "          google.colab.kernel.accessAllowed ? 'block' : 'none';\n",
              "\n",
              "        async function convertToInteractive(key) {\n",
              "          const element = document.querySelector('#df-3b6d5fdf-5115-4f23-b0fb-41c628eb0194');\n",
              "          const dataTable =\n",
              "            await google.colab.kernel.invokeFunction('convertToInteractive',\n",
              "                                                     [key], {});\n",
              "          if (!dataTable) return;\n",
              "\n",
              "          const docLinkHtml = 'Like what you see? Visit the ' +\n",
              "            '<a target=\"_blank\" href=https://colab.research.google.com/notebooks/data_table.ipynb>data table notebook</a>'\n",
              "            + ' to learn more about interactive tables.';\n",
              "          element.innerHTML = '';\n",
              "          dataTable['output_type'] = 'display_data';\n",
              "          await google.colab.output.renderOutput(dataTable, element);\n",
              "          const docLink = document.createElement('div');\n",
              "          docLink.innerHTML = docLinkHtml;\n",
              "          element.appendChild(docLink);\n",
              "        }\n",
              "      </script>\n",
              "    </div>\n",
              "  </div>\n",
              "  "
            ]
          },
          "metadata": {},
          "execution_count": 74
        }
      ]
    },
    {
      "cell_type": "code",
      "source": [
        "data.shape"
      ],
      "metadata": {
        "colab": {
          "base_uri": "https://localhost:8080/"
        },
        "id": "41h72wcghFD_",
        "outputId": "287e259b-c4b3-4744-eb62-6ff90504b0ed"
      },
      "execution_count": 34,
      "outputs": [
        {
          "output_type": "execute_result",
          "data": {
            "text/plain": [
              "(309, 16)"
            ]
          },
          "metadata": {},
          "execution_count": 34
        }
      ]
    },
    {
      "cell_type": "code",
      "source": [
        "data.info()"
      ],
      "metadata": {
        "colab": {
          "base_uri": "https://localhost:8080/"
        },
        "id": "KMSUe9dKiANX",
        "outputId": "11a75664-e47e-4f13-af96-72d8680626fc"
      },
      "execution_count": 35,
      "outputs": [
        {
          "output_type": "stream",
          "name": "stdout",
          "text": [
            "<class 'pandas.core.frame.DataFrame'>\n",
            "RangeIndex: 309 entries, 0 to 308\n",
            "Data columns (total 16 columns):\n",
            " #   Column                 Non-Null Count  Dtype \n",
            "---  ------                 --------------  ----- \n",
            " 0   GENDER                 309 non-null    object\n",
            " 1   AGE                    309 non-null    int64 \n",
            " 2   SMOKING                309 non-null    int64 \n",
            " 3   YELLOW_FINGERS         309 non-null    int64 \n",
            " 4   ANXIETY                309 non-null    int64 \n",
            " 5   PEER_PRESSURE          309 non-null    int64 \n",
            " 6   CHRONIC DISEASE        309 non-null    int64 \n",
            " 7   FATIGUE                309 non-null    int64 \n",
            " 8   ALLERGY                309 non-null    int64 \n",
            " 9   WHEEZING               309 non-null    int64 \n",
            " 10  ALCOHOL CONSUMING      309 non-null    int64 \n",
            " 11  COUGHING               309 non-null    int64 \n",
            " 12  SHORTNESS OF BREATH    309 non-null    int64 \n",
            " 13  SWALLOWING DIFFICULTY  309 non-null    int64 \n",
            " 14  CHEST PAIN             309 non-null    int64 \n",
            " 15  LUNG_CANCER            309 non-null    object\n",
            "dtypes: int64(14), object(2)\n",
            "memory usage: 38.8+ KB\n"
          ]
        }
      ]
    },
    {
      "cell_type": "code",
      "source": [
        "data['LUNG_CANCER'].value_counts()"
      ],
      "metadata": {
        "colab": {
          "base_uri": "https://localhost:8080/"
        },
        "id": "sVdgXBSIlfJn",
        "outputId": "ad8c97e1-0ecb-4ec8-9e39-4fc457832954"
      },
      "execution_count": 36,
      "outputs": [
        {
          "output_type": "execute_result",
          "data": {
            "text/plain": [
              "YES    270\n",
              "NO      39\n",
              "Name: LUNG_CANCER, dtype: int64"
            ]
          },
          "metadata": {},
          "execution_count": 36
        }
      ]
    },
    {
      "cell_type": "markdown",
      "source": [
        "### Preprocessing"
      ],
      "metadata": {
        "id": "w0FQqXCkii2M"
      }
    },
    {
      "cell_type": "code",
      "source": [
        "lb = LabelEncoder()\n",
        "data['GENDER'] = lb.fit_transform(data['GENDER'])\n",
        "data['LUNG_CANCER'] = lb.fit_transform(data['LUNG_CANCER'])"
      ],
      "metadata": {
        "id": "iOkHoyzziv9k"
      },
      "execution_count": 75,
      "outputs": []
    },
    {
      "cell_type": "code",
      "source": [
        "data.info()"
      ],
      "metadata": {
        "colab": {
          "base_uri": "https://localhost:8080/"
        },
        "id": "b1G6ZbLjiE1W",
        "outputId": "d2a5df01-3e1c-4e90-ed58-0a12c2d05a59"
      },
      "execution_count": 76,
      "outputs": [
        {
          "output_type": "stream",
          "name": "stdout",
          "text": [
            "<class 'pandas.core.frame.DataFrame'>\n",
            "RangeIndex: 309 entries, 0 to 308\n",
            "Data columns (total 16 columns):\n",
            " #   Column                 Non-Null Count  Dtype\n",
            "---  ------                 --------------  -----\n",
            " 0   GENDER                 309 non-null    int64\n",
            " 1   AGE                    309 non-null    int64\n",
            " 2   SMOKING                309 non-null    int64\n",
            " 3   YELLOW_FINGERS         309 non-null    int64\n",
            " 4   ANXIETY                309 non-null    int64\n",
            " 5   PEER_PRESSURE          309 non-null    int64\n",
            " 6   CHRONIC DISEASE        309 non-null    int64\n",
            " 7   FATIGUE                309 non-null    int64\n",
            " 8   ALLERGY                309 non-null    int64\n",
            " 9   WHEEZING               309 non-null    int64\n",
            " 10  ALCOHOL CONSUMING      309 non-null    int64\n",
            " 11  COUGHING               309 non-null    int64\n",
            " 12  SHORTNESS OF BREATH    309 non-null    int64\n",
            " 13  SWALLOWING DIFFICULTY  309 non-null    int64\n",
            " 14  CHEST PAIN             309 non-null    int64\n",
            " 15  LUNG_CANCER            309 non-null    int64\n",
            "dtypes: int64(16)\n",
            "memory usage: 38.8 KB\n"
          ]
        }
      ]
    },
    {
      "cell_type": "markdown",
      "source": [
        "## Split the dataset into train and test sets"
      ],
      "metadata": {
        "id": "8aRy98YKjqMH"
      }
    },
    {
      "cell_type": "code",
      "source": [
        "# data =! X"
      ],
      "metadata": {
        "id": "n4KDZ_UWqne2"
      },
      "execution_count": null,
      "outputs": []
    },
    {
      "cell_type": "code",
      "source": [
        "X = data.drop(columns=['LUNG_CANCER'])\n",
        "y = data.LUNG_CANCER"
      ],
      "metadata": {
        "id": "7lbUouqNjjin"
      },
      "execution_count": 77,
      "outputs": []
    },
    {
      "cell_type": "code",
      "source": [
        "# feature_cols = X.columns"
      ],
      "metadata": {
        "id": "C8ii_ZlIqPrN"
      },
      "execution_count": 40,
      "outputs": []
    },
    {
      "cell_type": "markdown",
      "source": [
        "# Model Building"
      ],
      "metadata": {
        "id": "j3LqCefRkXnr"
      }
    },
    {
      "cell_type": "code",
      "source": [
        "from sklearn.model_selection import train_test_split\n",
        "X_train, X_test, y_train, y_test = train_test_split(X,y, test_size= 0.2, random_state= 2022)\n",
        "print(X_train.shape)\n",
        "print(X_test.shape)\n",
        "print(y_train.shape)\n",
        "print(y_test.shape)\n"
      ],
      "metadata": {
        "id": "NQbWZ0Msj-p-",
        "colab": {
          "base_uri": "https://localhost:8080/"
        },
        "outputId": "b45e5de1-4efe-4df8-8e52-95fc260d9788"
      },
      "execution_count": 78,
      "outputs": [
        {
          "output_type": "stream",
          "name": "stdout",
          "text": [
            "(247, 15)\n",
            "(62, 15)\n",
            "(247,)\n",
            "(62,)\n"
          ]
        }
      ]
    },
    {
      "cell_type": "code",
      "source": [
        "# import the algorithm\n",
        "from sklearn.tree import DecisionTreeClassifier\n",
        "from sklearn import tree"
      ],
      "metadata": {
        "id": "cIm44RN8kXQw"
      },
      "execution_count": 79,
      "outputs": []
    },
    {
      "cell_type": "code",
      "source": [
        "# instantiate the algorithm\n",
        "clf = DecisionTreeClassifier(max_depth=3, criterion='entropy') #max_depth indicates the depth/layers that would be displayed\n",
        "# train/fit into your model\n",
        "clf.fit(X_train, y_train)"
      ],
      "metadata": {
        "colab": {
          "base_uri": "https://localhost:8080/"
        },
        "id": "VwcMVAycknTW",
        "outputId": "6a29ccd6-350c-4862-9eef-5ba414c37bcf"
      },
      "execution_count": 84,
      "outputs": [
        {
          "output_type": "execute_result",
          "data": {
            "text/plain": [
              "DecisionTreeClassifier()"
            ]
          },
          "metadata": {},
          "execution_count": 84
        }
      ]
    },
    {
      "cell_type": "code",
      "source": [
        "y_pred = clf.predict(X_test)"
      ],
      "metadata": {
        "id": "MNUdPZXZmGOf"
      },
      "execution_count": 44,
      "outputs": []
    },
    {
      "cell_type": "markdown",
      "source": [
        "## Confusion Matrix"
      ],
      "metadata": {
        "id": "rPaXcR3RmgV0"
      }
    },
    {
      "cell_type": "code",
      "source": [
        "from sklearn.metrics import confusion_matrix  \n",
        "cm= confusion_matrix(y_test, y_pred) \n",
        "cm"
      ],
      "metadata": {
        "colab": {
          "base_uri": "https://localhost:8080/"
        },
        "id": "KZgDF6KnmjeI",
        "outputId": "cd90ed8b-e7cd-4096-c605-fdd33f75b9a3"
      },
      "execution_count": 45,
      "outputs": [
        {
          "output_type": "execute_result",
          "data": {
            "text/plain": [
              "array([[ 3,  4],\n",
              "       [ 2, 53]])"
            ]
          },
          "metadata": {},
          "execution_count": 45
        }
      ]
    },
    {
      "cell_type": "markdown",
      "source": [
        "#Visualize the Decision Tree"
      ],
      "metadata": {
        "id": "4go7l4v6mWVy"
      }
    },
    {
      "cell_type": "code",
      "source": [
        "feature_cols"
      ],
      "metadata": {
        "colab": {
          "base_uri": "https://localhost:8080/"
        },
        "id": "BgCbNRoBtwda",
        "outputId": "b00b50b5-3563-4545-d510-b00f71ac5c5a"
      },
      "execution_count": 46,
      "outputs": [
        {
          "output_type": "execute_result",
          "data": {
            "text/plain": [
              "Index(['GENDER', 'AGE', 'SMOKING', 'YELLOW_FINGERS', 'ANXIETY',\n",
              "       'PEER_PRESSURE', 'CHRONIC DISEASE', 'FATIGUE ', 'ALLERGY ', 'WHEEZING',\n",
              "       'ALCOHOL CONSUMING', 'COUGHING', 'SHORTNESS OF BREATH',\n",
              "       'SWALLOWING DIFFICULTY', 'CHEST PAIN'],\n",
              "      dtype='object')"
            ]
          },
          "metadata": {},
          "execution_count": 46
        }
      ]
    },
    {
      "cell_type": "code",
      "source": [
        "total_dataset = 309\n",
        "0.8 * total_dataset"
      ],
      "metadata": {
        "colab": {
          "base_uri": "https://localhost:8080/"
        },
        "id": "x5JqfwrWueLe",
        "outputId": "4c1dc0bd-fe85-487e-d497-4ad7cabf4ddb"
      },
      "execution_count": 82,
      "outputs": [
        {
          "output_type": "execute_result",
          "data": {
            "text/plain": [
              "247.20000000000002"
            ]
          },
          "metadata": {},
          "execution_count": 82
        }
      ]
    },
    {
      "cell_type": "code",
      "source": [
        "import graphviz\n",
        "new_data = tree.export_graphviz(clf,out_file=None)\n",
        "graph = graphviz.Source(new_data)\n",
        "graph.render(\"Gini\")\n",
        "graph\n",
        "\n"
      ],
      "metadata": {
        "colab": {
          "base_uri": "https://localhost:8080/",
          "height": 519
        },
        "id": "4eMKyW0Xk33q",
        "outputId": "5ac8238a-9955-4a50-93f7-c8e62e61e151"
      },
      "execution_count": 53,
      "outputs": [
        {
          "output_type": "execute_result",
          "data": {
            "text/plain": [
              "<graphviz.files.Source at 0x7f5e4d1abd90>"
            ],
            "image/svg+xml": "<?xml version=\"1.0\" encoding=\"UTF-8\" standalone=\"no\"?>\n<!DOCTYPE svg PUBLIC \"-//W3C//DTD SVG 1.1//EN\"\n \"http://www.w3.org/Graphics/SVG/1.1/DTD/svg11.dtd\">\n<!-- Generated by graphviz version 2.40.1 (20161225.0304)\n -->\n<!-- Title: Tree Pages: 1 -->\n<svg width=\"785pt\" height=\"373pt\"\n viewBox=\"0.00 0.00 785.00 373.00\" xmlns=\"http://www.w3.org/2000/svg\" xmlns:xlink=\"http://www.w3.org/1999/xlink\">\n<g id=\"graph0\" class=\"graph\" transform=\"scale(1 1) rotate(0) translate(4 369)\">\n<title>Tree</title>\n<polygon fill=\"#ffffff\" stroke=\"transparent\" points=\"-4,4 -4,-369 781,-369 781,4 -4,4\"/>\n<!-- 0 -->\n<g id=\"node1\" class=\"node\">\n<title>0</title>\n<polygon fill=\"none\" stroke=\"#000000\" points=\"581,-365 457,-365 457,-297 581,-297 581,-365\"/>\n<text text-anchor=\"middle\" x=\"519\" y=\"-349.8\" font-family=\"Helvetica,sans-Serif\" font-size=\"14.00\" fill=\"#000000\">X[8] &lt;= 1.5</text>\n<text text-anchor=\"middle\" x=\"519\" y=\"-334.8\" font-family=\"Helvetica,sans-Serif\" font-size=\"14.00\" fill=\"#000000\">entropy = 0.556</text>\n<text text-anchor=\"middle\" x=\"519\" y=\"-319.8\" font-family=\"Helvetica,sans-Serif\" font-size=\"14.00\" fill=\"#000000\">samples = 247</text>\n<text text-anchor=\"middle\" x=\"519\" y=\"-304.8\" font-family=\"Helvetica,sans-Serif\" font-size=\"14.00\" fill=\"#000000\">value = [32, 215]</text>\n</g>\n<!-- 1 -->\n<g id=\"node2\" class=\"node\">\n<title>1</title>\n<polygon fill=\"none\" stroke=\"#000000\" points=\"450,-261 332,-261 332,-193 450,-193 450,-261\"/>\n<text text-anchor=\"middle\" x=\"391\" y=\"-245.8\" font-family=\"Helvetica,sans-Serif\" font-size=\"14.00\" fill=\"#000000\">X[13] &lt;= 1.5</text>\n<text text-anchor=\"middle\" x=\"391\" y=\"-230.8\" font-family=\"Helvetica,sans-Serif\" font-size=\"14.00\" fill=\"#000000\">entropy = 0.815</text>\n<text text-anchor=\"middle\" x=\"391\" y=\"-215.8\" font-family=\"Helvetica,sans-Serif\" font-size=\"14.00\" fill=\"#000000\">samples = 115</text>\n<text text-anchor=\"middle\" x=\"391\" y=\"-200.8\" font-family=\"Helvetica,sans-Serif\" font-size=\"14.00\" fill=\"#000000\">value = [29, 86]</text>\n</g>\n<!-- 0&#45;&gt;1 -->\n<g id=\"edge1\" class=\"edge\">\n<title>0&#45;&gt;1</title>\n<path fill=\"none\" stroke=\"#000000\" d=\"M477.088,-296.9465C465.485,-287.519 452.7779,-277.1946 440.7741,-267.4415\"/>\n<polygon fill=\"#000000\" stroke=\"#000000\" points=\"442.9744,-264.7196 433.0061,-261.13 438.5602,-270.1524 442.9744,-264.7196\"/>\n<text text-anchor=\"middle\" x=\"435.5786\" y=\"-282.2973\" font-family=\"Helvetica,sans-Serif\" font-size=\"14.00\" fill=\"#000000\">True</text>\n</g>\n<!-- 8 -->\n<g id=\"node9\" class=\"node\">\n<title>8</title>\n<polygon fill=\"none\" stroke=\"#000000\" points=\"646,-261 528,-261 528,-193 646,-193 646,-261\"/>\n<text text-anchor=\"middle\" x=\"587\" y=\"-245.8\" font-family=\"Helvetica,sans-Serif\" font-size=\"14.00\" fill=\"#000000\">X[3] &lt;= 1.5</text>\n<text text-anchor=\"middle\" x=\"587\" y=\"-230.8\" font-family=\"Helvetica,sans-Serif\" font-size=\"14.00\" fill=\"#000000\">entropy = 0.156</text>\n<text text-anchor=\"middle\" x=\"587\" y=\"-215.8\" font-family=\"Helvetica,sans-Serif\" font-size=\"14.00\" fill=\"#000000\">samples = 132</text>\n<text text-anchor=\"middle\" x=\"587\" y=\"-200.8\" font-family=\"Helvetica,sans-Serif\" font-size=\"14.00\" fill=\"#000000\">value = [3, 129]</text>\n</g>\n<!-- 0&#45;&gt;8 -->\n<g id=\"edge8\" class=\"edge\">\n<title>0&#45;&gt;8</title>\n<path fill=\"none\" stroke=\"#000000\" d=\"M541.2657,-296.9465C546.9602,-288.2373 553.1552,-278.7626 559.0938,-269.6801\"/>\n<polygon fill=\"#000000\" stroke=\"#000000\" points=\"562.1411,-271.4151 564.6842,-261.13 556.2823,-267.5843 562.1411,-271.4151\"/>\n<text text-anchor=\"middle\" x=\"569.8058\" y=\"-281.8998\" font-family=\"Helvetica,sans-Serif\" font-size=\"14.00\" fill=\"#000000\">False</text>\n</g>\n<!-- 2 -->\n<g id=\"node3\" class=\"node\">\n<title>2</title>\n<polygon fill=\"none\" stroke=\"#000000\" points=\"253,-157 137,-157 137,-89 253,-89 253,-157\"/>\n<text text-anchor=\"middle\" x=\"195\" y=\"-141.8\" font-family=\"Helvetica,sans-Serif\" font-size=\"14.00\" fill=\"#000000\">X[11] &lt;= 1.5</text>\n<text text-anchor=\"middle\" x=\"195\" y=\"-126.8\" font-family=\"Helvetica,sans-Serif\" font-size=\"14.00\" fill=\"#000000\">entropy = 0.98</text>\n<text text-anchor=\"middle\" x=\"195\" y=\"-111.8\" font-family=\"Helvetica,sans-Serif\" font-size=\"14.00\" fill=\"#000000\">samples = 60</text>\n<text text-anchor=\"middle\" x=\"195\" y=\"-96.8\" font-family=\"Helvetica,sans-Serif\" font-size=\"14.00\" fill=\"#000000\">value = [25, 35]</text>\n</g>\n<!-- 1&#45;&gt;2 -->\n<g id=\"edge2\" class=\"edge\">\n<title>1&#45;&gt;2</title>\n<path fill=\"none\" stroke=\"#000000\" d=\"M331.9277,-195.6555C309.9366,-183.9868 284.8227,-170.661 262.1591,-158.6354\"/>\n<polygon fill=\"#000000\" stroke=\"#000000\" points=\"263.7503,-155.5176 253.2763,-153.9221 260.4693,-161.7011 263.7503,-155.5176\"/>\n</g>\n<!-- 5 -->\n<g id=\"node6\" class=\"node\">\n<title>5</title>\n<polygon fill=\"none\" stroke=\"#000000\" points=\"450,-157 332,-157 332,-89 450,-89 450,-157\"/>\n<text text-anchor=\"middle\" x=\"391\" y=\"-141.8\" font-family=\"Helvetica,sans-Serif\" font-size=\"14.00\" fill=\"#000000\">X[5] &lt;= 1.5</text>\n<text text-anchor=\"middle\" x=\"391\" y=\"-126.8\" font-family=\"Helvetica,sans-Serif\" font-size=\"14.00\" fill=\"#000000\">entropy = 0.376</text>\n<text text-anchor=\"middle\" x=\"391\" y=\"-111.8\" font-family=\"Helvetica,sans-Serif\" font-size=\"14.00\" fill=\"#000000\">samples = 55</text>\n<text text-anchor=\"middle\" x=\"391\" y=\"-96.8\" font-family=\"Helvetica,sans-Serif\" font-size=\"14.00\" fill=\"#000000\">value = [4, 51]</text>\n</g>\n<!-- 1&#45;&gt;5 -->\n<g id=\"edge5\" class=\"edge\">\n<title>1&#45;&gt;5</title>\n<path fill=\"none\" stroke=\"#000000\" d=\"M391,-192.9465C391,-184.776 391,-175.9318 391,-167.3697\"/>\n<polygon fill=\"#000000\" stroke=\"#000000\" points=\"394.5001,-167.13 391,-157.13 387.5001,-167.13 394.5001,-167.13\"/>\n</g>\n<!-- 3 -->\n<g id=\"node4\" class=\"node\">\n<title>3</title>\n<polygon fill=\"none\" stroke=\"#000000\" points=\"118,-53 0,-53 0,0 118,0 118,-53\"/>\n<text text-anchor=\"middle\" x=\"59\" y=\"-37.8\" font-family=\"Helvetica,sans-Serif\" font-size=\"14.00\" fill=\"#000000\">entropy = 0.989</text>\n<text text-anchor=\"middle\" x=\"59\" y=\"-22.8\" font-family=\"Helvetica,sans-Serif\" font-size=\"14.00\" fill=\"#000000\">samples = 32</text>\n<text text-anchor=\"middle\" x=\"59\" y=\"-7.8\" font-family=\"Helvetica,sans-Serif\" font-size=\"14.00\" fill=\"#000000\">value = [18, 14]</text>\n</g>\n<!-- 2&#45;&gt;3 -->\n<g id=\"edge3\" class=\"edge\">\n<title>2&#45;&gt;3</title>\n<path fill=\"none\" stroke=\"#000000\" d=\"M147.0515,-88.9777C133.372,-79.2713 118.5036,-68.7213 104.9466,-59.1018\"/>\n<polygon fill=\"#000000\" stroke=\"#000000\" points=\"106.8783,-56.1809 96.6973,-53.2485 102.8275,-61.8898 106.8783,-56.1809\"/>\n</g>\n<!-- 4 -->\n<g id=\"node5\" class=\"node\">\n<title>4</title>\n<polygon fill=\"none\" stroke=\"#000000\" points=\"254,-53 136,-53 136,0 254,0 254,-53\"/>\n<text text-anchor=\"middle\" x=\"195\" y=\"-37.8\" font-family=\"Helvetica,sans-Serif\" font-size=\"14.00\" fill=\"#000000\">entropy = 0.811</text>\n<text text-anchor=\"middle\" x=\"195\" y=\"-22.8\" font-family=\"Helvetica,sans-Serif\" font-size=\"14.00\" fill=\"#000000\">samples = 28</text>\n<text text-anchor=\"middle\" x=\"195\" y=\"-7.8\" font-family=\"Helvetica,sans-Serif\" font-size=\"14.00\" fill=\"#000000\">value = [7, 21]</text>\n</g>\n<!-- 2&#45;&gt;4 -->\n<g id=\"edge4\" class=\"edge\">\n<title>2&#45;&gt;4</title>\n<path fill=\"none\" stroke=\"#000000\" d=\"M195,-88.9777C195,-80.7364 195,-71.887 195,-63.5153\"/>\n<polygon fill=\"#000000\" stroke=\"#000000\" points=\"198.5001,-63.2484 195,-53.2485 191.5001,-63.2485 198.5001,-63.2484\"/>\n</g>\n<!-- 6 -->\n<g id=\"node7\" class=\"node\">\n<title>6</title>\n<polygon fill=\"none\" stroke=\"#000000\" points=\"390,-53 272,-53 272,0 390,0 390,-53\"/>\n<text text-anchor=\"middle\" x=\"331\" y=\"-37.8\" font-family=\"Helvetica,sans-Serif\" font-size=\"14.00\" fill=\"#000000\">entropy = 0.742</text>\n<text text-anchor=\"middle\" x=\"331\" y=\"-22.8\" font-family=\"Helvetica,sans-Serif\" font-size=\"14.00\" fill=\"#000000\">samples = 19</text>\n<text text-anchor=\"middle\" x=\"331\" y=\"-7.8\" font-family=\"Helvetica,sans-Serif\" font-size=\"14.00\" fill=\"#000000\">value = [4, 15]</text>\n</g>\n<!-- 5&#45;&gt;6 -->\n<g id=\"edge6\" class=\"edge\">\n<title>5&#45;&gt;6</title>\n<path fill=\"none\" stroke=\"#000000\" d=\"M369.8462,-88.9777C364.3805,-80.187 358.4846,-70.7044 352.9778,-61.8477\"/>\n<polygon fill=\"#000000\" stroke=\"#000000\" points=\"355.8837,-59.8927 347.6312,-53.2485 349.9391,-63.5889 355.8837,-59.8927\"/>\n</g>\n<!-- 7 -->\n<g id=\"node8\" class=\"node\">\n<title>7</title>\n<polygon fill=\"none\" stroke=\"#000000\" points=\"515.5,-53 408.5,-53 408.5,0 515.5,0 515.5,-53\"/>\n<text text-anchor=\"middle\" x=\"462\" y=\"-37.8\" font-family=\"Helvetica,sans-Serif\" font-size=\"14.00\" fill=\"#000000\">entropy = 0.0</text>\n<text text-anchor=\"middle\" x=\"462\" y=\"-22.8\" font-family=\"Helvetica,sans-Serif\" font-size=\"14.00\" fill=\"#000000\">samples = 36</text>\n<text text-anchor=\"middle\" x=\"462\" y=\"-7.8\" font-family=\"Helvetica,sans-Serif\" font-size=\"14.00\" fill=\"#000000\">value = [0, 36]</text>\n</g>\n<!-- 5&#45;&gt;7 -->\n<g id=\"edge7\" class=\"edge\">\n<title>5&#45;&gt;7</title>\n<path fill=\"none\" stroke=\"#000000\" d=\"M416.0319,-88.9777C422.5671,-80.0954 429.622,-70.5067 436.1964,-61.5711\"/>\n<polygon fill=\"#000000\" stroke=\"#000000\" points=\"439.2126,-63.3775 442.3198,-53.2485 433.5743,-59.229 439.2126,-63.3775\"/>\n</g>\n<!-- 9 -->\n<g id=\"node10\" class=\"node\">\n<title>9</title>\n<polygon fill=\"none\" stroke=\"#000000\" points=\"646,-157 528,-157 528,-89 646,-89 646,-157\"/>\n<text text-anchor=\"middle\" x=\"587\" y=\"-141.8\" font-family=\"Helvetica,sans-Serif\" font-size=\"14.00\" fill=\"#000000\">X[2] &lt;= 1.5</text>\n<text text-anchor=\"middle\" x=\"587\" y=\"-126.8\" font-family=\"Helvetica,sans-Serif\" font-size=\"14.00\" fill=\"#000000\">entropy = 0.267</text>\n<text text-anchor=\"middle\" x=\"587\" y=\"-111.8\" font-family=\"Helvetica,sans-Serif\" font-size=\"14.00\" fill=\"#000000\">samples = 66</text>\n<text text-anchor=\"middle\" x=\"587\" y=\"-96.8\" font-family=\"Helvetica,sans-Serif\" font-size=\"14.00\" fill=\"#000000\">value = [3, 63]</text>\n</g>\n<!-- 8&#45;&gt;9 -->\n<g id=\"edge9\" class=\"edge\">\n<title>8&#45;&gt;9</title>\n<path fill=\"none\" stroke=\"#000000\" d=\"M587,-192.9465C587,-184.776 587,-175.9318 587,-167.3697\"/>\n<polygon fill=\"#000000\" stroke=\"#000000\" points=\"590.5001,-167.13 587,-157.13 583.5001,-167.13 590.5001,-167.13\"/>\n</g>\n<!-- 12 -->\n<g id=\"node13\" class=\"node\">\n<title>12</title>\n<polygon fill=\"none\" stroke=\"#000000\" points=\"771.5,-149.5 664.5,-149.5 664.5,-96.5 771.5,-96.5 771.5,-149.5\"/>\n<text text-anchor=\"middle\" x=\"718\" y=\"-134.3\" font-family=\"Helvetica,sans-Serif\" font-size=\"14.00\" fill=\"#000000\">entropy = 0.0</text>\n<text text-anchor=\"middle\" x=\"718\" y=\"-119.3\" font-family=\"Helvetica,sans-Serif\" font-size=\"14.00\" fill=\"#000000\">samples = 66</text>\n<text text-anchor=\"middle\" x=\"718\" y=\"-104.3\" font-family=\"Helvetica,sans-Serif\" font-size=\"14.00\" fill=\"#000000\">value = [0, 66]</text>\n</g>\n<!-- 8&#45;&gt;12 -->\n<g id=\"edge12\" class=\"edge\">\n<title>8&#45;&gt;12</title>\n<path fill=\"none\" stroke=\"#000000\" d=\"M629.8943,-192.9465C644.8788,-181.0504 661.6624,-167.726 676.5288,-155.9237\"/>\n<polygon fill=\"#000000\" stroke=\"#000000\" points=\"678.9113,-158.5011 684.5671,-149.5422 674.5589,-153.0187 678.9113,-158.5011\"/>\n</g>\n<!-- 10 -->\n<g id=\"node11\" class=\"node\">\n<title>10</title>\n<polygon fill=\"none\" stroke=\"#000000\" points=\"640.5,-53 533.5,-53 533.5,0 640.5,0 640.5,-53\"/>\n<text text-anchor=\"middle\" x=\"587\" y=\"-37.8\" font-family=\"Helvetica,sans-Serif\" font-size=\"14.00\" fill=\"#000000\">entropy = 0.0</text>\n<text text-anchor=\"middle\" x=\"587\" y=\"-22.8\" font-family=\"Helvetica,sans-Serif\" font-size=\"14.00\" fill=\"#000000\">samples = 22</text>\n<text text-anchor=\"middle\" x=\"587\" y=\"-7.8\" font-family=\"Helvetica,sans-Serif\" font-size=\"14.00\" fill=\"#000000\">value = [0, 22]</text>\n</g>\n<!-- 9&#45;&gt;10 -->\n<g id=\"edge10\" class=\"edge\">\n<title>9&#45;&gt;10</title>\n<path fill=\"none\" stroke=\"#000000\" d=\"M587,-88.9777C587,-80.7364 587,-71.887 587,-63.5153\"/>\n<polygon fill=\"#000000\" stroke=\"#000000\" points=\"590.5001,-63.2484 587,-53.2485 583.5001,-63.2485 590.5001,-63.2484\"/>\n</g>\n<!-- 11 -->\n<g id=\"node12\" class=\"node\">\n<title>11</title>\n<polygon fill=\"none\" stroke=\"#000000\" points=\"777,-53 659,-53 659,0 777,0 777,-53\"/>\n<text text-anchor=\"middle\" x=\"718\" y=\"-37.8\" font-family=\"Helvetica,sans-Serif\" font-size=\"14.00\" fill=\"#000000\">entropy = 0.359</text>\n<text text-anchor=\"middle\" x=\"718\" y=\"-22.8\" font-family=\"Helvetica,sans-Serif\" font-size=\"14.00\" fill=\"#000000\">samples = 44</text>\n<text text-anchor=\"middle\" x=\"718\" y=\"-7.8\" font-family=\"Helvetica,sans-Serif\" font-size=\"14.00\" fill=\"#000000\">value = [3, 41]</text>\n</g>\n<!-- 9&#45;&gt;11 -->\n<g id=\"edge11\" class=\"edge\">\n<title>9&#45;&gt;11</title>\n<path fill=\"none\" stroke=\"#000000\" d=\"M633.1857,-88.9777C646.2379,-79.3629 660.4139,-68.9203 673.3727,-59.3743\"/>\n<polygon fill=\"#000000\" stroke=\"#000000\" points=\"675.7131,-61.9974 681.6886,-53.2485 671.5614,-56.3615 675.7131,-61.9974\"/>\n</g>\n</g>\n</svg>\n"
          },
          "metadata": {},
          "execution_count": 53
        }
      ]
    },
    {
      "cell_type": "markdown",
      "source": [
        "Note how the model resembles an upside down tree and each box represent a node in the tree.\n",
        "\n",
        "\n",
        "*   Samples: the number of the observations in the node\n",
        "*   Entropy: a measure of the node randomness\n",
        "*   Value: the distribution of observation in each class\n",
        "*   Class: the most common label in the node\n",
        "\n",
        "\n",
        "\n"
      ],
      "metadata": {
        "id": "JSU3GsC5cBcK"
      }
    },
    {
      "cell_type": "code",
      "source": [
        "#Importing the accuracy metric from sklearn.metrics library\n",
        "\n",
        "from sklearn.metrics import accuracy_score\n",
        "print('Accuracy Score on the dataset is: ', accuracy_score(y_test, y_pred))"
      ],
      "metadata": {
        "colab": {
          "base_uri": "https://localhost:8080/"
        },
        "id": "rpjlpo37eEH3",
        "outputId": "5087f1ad-fe23-44ab-a449-abc8893ca84b"
      },
      "execution_count": 83,
      "outputs": [
        {
          "output_type": "stream",
          "name": "stdout",
          "text": [
            "Accuracy Score on the dataset is:  0.9032258064516129\n"
          ]
        }
      ]
    },
    {
      "cell_type": "code",
      "source": [
        "import graphviz\n",
        "new_data = tree.export_graphviz(clf,out_file=None,feature_names=['GENDER', 'AGE', 'SMOKING', 'YELLOW_FINGERS', 'ANXIETY',\n",
        "                                                                 'PEER_PRESSURE', 'CHRONIC DISEASE', 'FATIGUE ', 'ALLERGY ', 'WHEEZING',\n",
        "                                                                 'ALCOHOL CONSUMING', 'COUGHING', 'SHORTNESS OF BREATH',\n",
        "                                                                 'SWALLOWING DIFFICULTY', 'CHEST PAIN'],\n",
        "                                class_names=['Yes', 'No'],\n",
        "                                filled=True, rounded=True)\n",
        "\n",
        "graph = graphviz.Source(new_data)\n",
        "graph.render(\"Gini\")\n",
        "graph"
      ],
      "metadata": {
        "id": "65GiecbPoLEC",
        "colab": {
          "base_uri": "https://localhost:8080/",
          "height": 1000
        },
        "outputId": "89ce7dcb-b837-4f79-b54e-878d7d456a87"
      },
      "execution_count": 85,
      "outputs": [
        {
          "output_type": "execute_result",
          "data": {
            "text/plain": [
              "<graphviz.files.Source at 0x7f5e4bd56210>"
            ],
            "image/svg+xml": "<?xml version=\"1.0\" encoding=\"UTF-8\" standalone=\"no\"?>\n<!DOCTYPE svg PUBLIC \"-//W3C//DTD SVG 1.1//EN\"\n \"http://www.w3.org/Graphics/SVG/1.1/DTD/svg11.dtd\">\n<!-- Generated by graphviz version 2.40.1 (20161225.0304)\n -->\n<!-- Title: Tree Pages: 1 -->\n<svg width=\"2451pt\" height=\"1028pt\"\n viewBox=\"0.00 0.00 2451.00 1028.00\" xmlns=\"http://www.w3.org/2000/svg\" xmlns:xlink=\"http://www.w3.org/1999/xlink\">\n<g id=\"graph0\" class=\"graph\" transform=\"scale(1 1) rotate(0) translate(4 1024)\">\n<title>Tree</title>\n<polygon fill=\"#ffffff\" stroke=\"transparent\" points=\"-4,4 -4,-1024 2447,-1024 2447,4 -4,4\"/>\n<!-- 0 -->\n<g id=\"node1\" class=\"node\">\n<title>0</title>\n<path fill=\"#56ace9\" stroke=\"#000000\" d=\"M1931.5,-1020C1931.5,-1020 1823.5,-1020 1823.5,-1020 1817.5,-1020 1811.5,-1014 1811.5,-1008 1811.5,-1008 1811.5,-949 1811.5,-949 1811.5,-943 1817.5,-937 1823.5,-937 1823.5,-937 1931.5,-937 1931.5,-937 1937.5,-937 1943.5,-943 1943.5,-949 1943.5,-949 1943.5,-1008 1943.5,-1008 1943.5,-1014 1937.5,-1020 1931.5,-1020\"/>\n<text text-anchor=\"middle\" x=\"1877.5\" y=\"-1004.8\" font-family=\"Helvetica,sans-Serif\" font-size=\"14.00\" fill=\"#000000\">ALLERGY &#160;&lt;= 1.5</text>\n<text text-anchor=\"middle\" x=\"1877.5\" y=\"-989.8\" font-family=\"Helvetica,sans-Serif\" font-size=\"14.00\" fill=\"#000000\">gini = 0.226</text>\n<text text-anchor=\"middle\" x=\"1877.5\" y=\"-974.8\" font-family=\"Helvetica,sans-Serif\" font-size=\"14.00\" fill=\"#000000\">samples = 247</text>\n<text text-anchor=\"middle\" x=\"1877.5\" y=\"-959.8\" font-family=\"Helvetica,sans-Serif\" font-size=\"14.00\" fill=\"#000000\">value = [32, 215]</text>\n<text text-anchor=\"middle\" x=\"1877.5\" y=\"-944.8\" font-family=\"Helvetica,sans-Serif\" font-size=\"14.00\" fill=\"#000000\">class = No</text>\n</g>\n<!-- 1 -->\n<g id=\"node2\" class=\"node\">\n<title>1</title>\n<path fill=\"#7cbeee\" stroke=\"#000000\" d=\"M1870,-901C1870,-901 1647,-901 1647,-901 1641,-901 1635,-895 1635,-889 1635,-889 1635,-830 1635,-830 1635,-824 1641,-818 1647,-818 1647,-818 1870,-818 1870,-818 1876,-818 1882,-824 1882,-830 1882,-830 1882,-889 1882,-889 1882,-895 1876,-901 1870,-901\"/>\n<text text-anchor=\"middle\" x=\"1758.5\" y=\"-885.8\" font-family=\"Helvetica,sans-Serif\" font-size=\"14.00\" fill=\"#000000\">SWALLOWING DIFFICULTY &lt;= 1.5</text>\n<text text-anchor=\"middle\" x=\"1758.5\" y=\"-870.8\" font-family=\"Helvetica,sans-Serif\" font-size=\"14.00\" fill=\"#000000\">gini = 0.377</text>\n<text text-anchor=\"middle\" x=\"1758.5\" y=\"-855.8\" font-family=\"Helvetica,sans-Serif\" font-size=\"14.00\" fill=\"#000000\">samples = 115</text>\n<text text-anchor=\"middle\" x=\"1758.5\" y=\"-840.8\" font-family=\"Helvetica,sans-Serif\" font-size=\"14.00\" fill=\"#000000\">value = [29, 86]</text>\n<text text-anchor=\"middle\" x=\"1758.5\" y=\"-825.8\" font-family=\"Helvetica,sans-Serif\" font-size=\"14.00\" fill=\"#000000\">class = No</text>\n</g>\n<!-- 0&#45;&gt;1 -->\n<g id=\"edge1\" class=\"edge\">\n<title>0&#45;&gt;1</title>\n<path fill=\"none\" stroke=\"#000000\" d=\"M1835.8796,-936.8796C1826.6931,-927.6931 1816.8798,-917.8798 1807.4336,-908.4336\"/>\n<polygon fill=\"#000000\" stroke=\"#000000\" points=\"1809.8441,-905.8943 1800.2981,-901.2981 1804.8943,-910.8441 1809.8441,-905.8943\"/>\n<text text-anchor=\"middle\" x=\"1800.2981\" y=\"-922.5981\" font-family=\"Helvetica,sans-Serif\" font-size=\"14.00\" fill=\"#000000\">True</text>\n</g>\n<!-- 50 -->\n<g id=\"node51\" class=\"node\">\n<title>50</title>\n<path fill=\"#3e9fe6\" stroke=\"#000000\" d=\"M2119.5,-901C2119.5,-901 1949.5,-901 1949.5,-901 1943.5,-901 1937.5,-895 1937.5,-889 1937.5,-889 1937.5,-830 1937.5,-830 1937.5,-824 1943.5,-818 1949.5,-818 1949.5,-818 2119.5,-818 2119.5,-818 2125.5,-818 2131.5,-824 2131.5,-830 2131.5,-830 2131.5,-889 2131.5,-889 2131.5,-895 2125.5,-901 2119.5,-901\"/>\n<text text-anchor=\"middle\" x=\"2034.5\" y=\"-885.8\" font-family=\"Helvetica,sans-Serif\" font-size=\"14.00\" fill=\"#000000\">YELLOW_FINGERS &lt;= 1.5</text>\n<text text-anchor=\"middle\" x=\"2034.5\" y=\"-870.8\" font-family=\"Helvetica,sans-Serif\" font-size=\"14.00\" fill=\"#000000\">gini = 0.044</text>\n<text text-anchor=\"middle\" x=\"2034.5\" y=\"-855.8\" font-family=\"Helvetica,sans-Serif\" font-size=\"14.00\" fill=\"#000000\">samples = 132</text>\n<text text-anchor=\"middle\" x=\"2034.5\" y=\"-840.8\" font-family=\"Helvetica,sans-Serif\" font-size=\"14.00\" fill=\"#000000\">value = [3, 129]</text>\n<text text-anchor=\"middle\" x=\"2034.5\" y=\"-825.8\" font-family=\"Helvetica,sans-Serif\" font-size=\"14.00\" fill=\"#000000\">class = No</text>\n</g>\n<!-- 0&#45;&gt;50 -->\n<g id=\"edge50\" class=\"edge\">\n<title>0&#45;&gt;50</title>\n<path fill=\"none\" stroke=\"#000000\" d=\"M1932.411,-936.8796C1945.0794,-927.2774 1958.6515,-916.9903 1971.6295,-907.1534\"/>\n<polygon fill=\"#000000\" stroke=\"#000000\" points=\"1973.7648,-909.9268 1979.62,-901.0969 1969.5364,-904.3482 1973.7648,-909.9268\"/>\n<text text-anchor=\"middle\" x=\"1976.2102\" y=\"-922.1633\" font-family=\"Helvetica,sans-Serif\" font-size=\"14.00\" fill=\"#000000\">False</text>\n</g>\n<!-- 2 -->\n<g id=\"node3\" class=\"node\">\n<title>2</title>\n<path fill=\"#c6e3f8\" stroke=\"#000000\" d=\"M1310.5,-782C1310.5,-782 1194.5,-782 1194.5,-782 1188.5,-782 1182.5,-776 1182.5,-770 1182.5,-770 1182.5,-711 1182.5,-711 1182.5,-705 1188.5,-699 1194.5,-699 1194.5,-699 1310.5,-699 1310.5,-699 1316.5,-699 1322.5,-705 1322.5,-711 1322.5,-711 1322.5,-770 1322.5,-770 1322.5,-776 1316.5,-782 1310.5,-782\"/>\n<text text-anchor=\"middle\" x=\"1252.5\" y=\"-766.8\" font-family=\"Helvetica,sans-Serif\" font-size=\"14.00\" fill=\"#000000\">COUGHING &lt;= 1.5</text>\n<text text-anchor=\"middle\" x=\"1252.5\" y=\"-751.8\" font-family=\"Helvetica,sans-Serif\" font-size=\"14.00\" fill=\"#000000\">gini = 0.486</text>\n<text text-anchor=\"middle\" x=\"1252.5\" y=\"-736.8\" font-family=\"Helvetica,sans-Serif\" font-size=\"14.00\" fill=\"#000000\">samples = 60</text>\n<text text-anchor=\"middle\" x=\"1252.5\" y=\"-721.8\" font-family=\"Helvetica,sans-Serif\" font-size=\"14.00\" fill=\"#000000\">value = [25, 35]</text>\n<text text-anchor=\"middle\" x=\"1252.5\" y=\"-706.8\" font-family=\"Helvetica,sans-Serif\" font-size=\"14.00\" fill=\"#000000\">class = No</text>\n</g>\n<!-- 1&#45;&gt;2 -->\n<g id=\"edge2\" class=\"edge\">\n<title>1&#45;&gt;2</title>\n<path fill=\"none\" stroke=\"#000000\" d=\"M1634.7185,-830.3893C1540.7245,-808.284 1414.2036,-778.5291 1332.9805,-759.4272\"/>\n<polygon fill=\"#000000\" stroke=\"#000000\" points=\"1333.3492,-755.9185 1322.8135,-757.0362 1331.7466,-762.7326 1333.3492,-755.9185\"/>\n</g>\n<!-- 41 -->\n<g id=\"node42\" class=\"node\">\n<title>41</title>\n<path fill=\"#49a5e7\" stroke=\"#000000\" d=\"M1841,-782C1841,-782 1676,-782 1676,-782 1670,-782 1664,-776 1664,-770 1664,-770 1664,-711 1664,-711 1664,-705 1670,-699 1676,-699 1676,-699 1841,-699 1841,-699 1847,-699 1853,-705 1853,-711 1853,-711 1853,-770 1853,-770 1853,-776 1847,-782 1841,-782\"/>\n<text text-anchor=\"middle\" x=\"1758.5\" y=\"-766.8\" font-family=\"Helvetica,sans-Serif\" font-size=\"14.00\" fill=\"#000000\">PEER_PRESSURE &lt;= 1.5</text>\n<text text-anchor=\"middle\" x=\"1758.5\" y=\"-751.8\" font-family=\"Helvetica,sans-Serif\" font-size=\"14.00\" fill=\"#000000\">gini = 0.135</text>\n<text text-anchor=\"middle\" x=\"1758.5\" y=\"-736.8\" font-family=\"Helvetica,sans-Serif\" font-size=\"14.00\" fill=\"#000000\">samples = 55</text>\n<text text-anchor=\"middle\" x=\"1758.5\" y=\"-721.8\" font-family=\"Helvetica,sans-Serif\" font-size=\"14.00\" fill=\"#000000\">value = [4, 51]</text>\n<text text-anchor=\"middle\" x=\"1758.5\" y=\"-706.8\" font-family=\"Helvetica,sans-Serif\" font-size=\"14.00\" fill=\"#000000\">class = No</text>\n</g>\n<!-- 1&#45;&gt;41 -->\n<g id=\"edge41\" class=\"edge\">\n<title>1&#45;&gt;41</title>\n<path fill=\"none\" stroke=\"#000000\" d=\"M1758.5,-817.8796C1758.5,-809.6838 1758.5,-800.9891 1758.5,-792.5013\"/>\n<polygon fill=\"#000000\" stroke=\"#000000\" points=\"1762.0001,-792.298 1758.5,-782.2981 1755.0001,-792.2981 1762.0001,-792.298\"/>\n</g>\n<!-- 3 -->\n<g id=\"node4\" class=\"node\">\n<title>3</title>\n<path fill=\"#f9e3d3\" stroke=\"#000000\" d=\"M839.5,-663C839.5,-663 669.5,-663 669.5,-663 663.5,-663 657.5,-657 657.5,-651 657.5,-651 657.5,-592 657.5,-592 657.5,-586 663.5,-580 669.5,-580 669.5,-580 839.5,-580 839.5,-580 845.5,-580 851.5,-586 851.5,-592 851.5,-592 851.5,-651 851.5,-651 851.5,-657 845.5,-663 839.5,-663\"/>\n<text text-anchor=\"middle\" x=\"754.5\" y=\"-647.8\" font-family=\"Helvetica,sans-Serif\" font-size=\"14.00\" fill=\"#000000\">YELLOW_FINGERS &lt;= 1.5</text>\n<text text-anchor=\"middle\" x=\"754.5\" y=\"-632.8\" font-family=\"Helvetica,sans-Serif\" font-size=\"14.00\" fill=\"#000000\">gini = 0.492</text>\n<text text-anchor=\"middle\" x=\"754.5\" y=\"-617.8\" font-family=\"Helvetica,sans-Serif\" font-size=\"14.00\" fill=\"#000000\">samples = 32</text>\n<text text-anchor=\"middle\" x=\"754.5\" y=\"-602.8\" font-family=\"Helvetica,sans-Serif\" font-size=\"14.00\" fill=\"#000000\">value = [18, 14]</text>\n<text text-anchor=\"middle\" x=\"754.5\" y=\"-587.8\" font-family=\"Helvetica,sans-Serif\" font-size=\"14.00\" fill=\"#000000\">class = Yes</text>\n</g>\n<!-- 2&#45;&gt;3 -->\n<g id=\"edge3\" class=\"edge\">\n<title>2&#45;&gt;3</title>\n<path fill=\"none\" stroke=\"#000000\" d=\"M1182.4681,-723.7655C1099.068,-703.8365 958.8694,-670.3352 861.7745,-647.1339\"/>\n<polygon fill=\"#000000\" stroke=\"#000000\" points=\"862.467,-643.7009 851.9273,-644.7808 860.84,-650.5092 862.467,-643.7009\"/>\n</g>\n<!-- 22 -->\n<g id=\"node23\" class=\"node\">\n<title>22</title>\n<path fill=\"#7bbeee\" stroke=\"#000000\" d=\"M1303.5,-663C1303.5,-663 1201.5,-663 1201.5,-663 1195.5,-663 1189.5,-657 1189.5,-651 1189.5,-651 1189.5,-592 1189.5,-592 1189.5,-586 1195.5,-580 1201.5,-580 1201.5,-580 1303.5,-580 1303.5,-580 1309.5,-580 1315.5,-586 1315.5,-592 1315.5,-592 1315.5,-651 1315.5,-651 1315.5,-657 1309.5,-663 1303.5,-663\"/>\n<text text-anchor=\"middle\" x=\"1252.5\" y=\"-647.8\" font-family=\"Helvetica,sans-Serif\" font-size=\"14.00\" fill=\"#000000\">FATIGUE &#160;&lt;= 1.5</text>\n<text text-anchor=\"middle\" x=\"1252.5\" y=\"-632.8\" font-family=\"Helvetica,sans-Serif\" font-size=\"14.00\" fill=\"#000000\">gini = 0.375</text>\n<text text-anchor=\"middle\" x=\"1252.5\" y=\"-617.8\" font-family=\"Helvetica,sans-Serif\" font-size=\"14.00\" fill=\"#000000\">samples = 28</text>\n<text text-anchor=\"middle\" x=\"1252.5\" y=\"-602.8\" font-family=\"Helvetica,sans-Serif\" font-size=\"14.00\" fill=\"#000000\">value = [7, 21]</text>\n<text text-anchor=\"middle\" x=\"1252.5\" y=\"-587.8\" font-family=\"Helvetica,sans-Serif\" font-size=\"14.00\" fill=\"#000000\">class = No</text>\n</g>\n<!-- 2&#45;&gt;22 -->\n<g id=\"edge22\" class=\"edge\">\n<title>2&#45;&gt;22</title>\n<path fill=\"none\" stroke=\"#000000\" d=\"M1252.5,-698.8796C1252.5,-690.6838 1252.5,-681.9891 1252.5,-673.5013\"/>\n<polygon fill=\"#000000\" stroke=\"#000000\" points=\"1256.0001,-673.298 1252.5,-663.2981 1249.0001,-673.2981 1256.0001,-673.298\"/>\n</g>\n<!-- 4 -->\n<g id=\"node5\" class=\"node\">\n<title>4</title>\n<path fill=\"#f1bc95\" stroke=\"#000000\" d=\"M550,-544C550,-544 467,-544 467,-544 461,-544 455,-538 455,-532 455,-532 455,-473 455,-473 455,-467 461,-461 467,-461 467,-461 550,-461 550,-461 556,-461 562,-467 562,-473 562,-473 562,-532 562,-532 562,-538 556,-544 550,-544\"/>\n<text text-anchor=\"middle\" x=\"508.5\" y=\"-528.8\" font-family=\"Helvetica,sans-Serif\" font-size=\"14.00\" fill=\"#000000\">AGE &lt;= 60.5</text>\n<text text-anchor=\"middle\" x=\"508.5\" y=\"-513.8\" font-family=\"Helvetica,sans-Serif\" font-size=\"14.00\" fill=\"#000000\">gini = 0.434</text>\n<text text-anchor=\"middle\" x=\"508.5\" y=\"-498.8\" font-family=\"Helvetica,sans-Serif\" font-size=\"14.00\" fill=\"#000000\">samples = 22</text>\n<text text-anchor=\"middle\" x=\"508.5\" y=\"-483.8\" font-family=\"Helvetica,sans-Serif\" font-size=\"14.00\" fill=\"#000000\">value = [15, 7]</text>\n<text text-anchor=\"middle\" x=\"508.5\" y=\"-468.8\" font-family=\"Helvetica,sans-Serif\" font-size=\"14.00\" fill=\"#000000\">class = Yes</text>\n</g>\n<!-- 3&#45;&gt;4 -->\n<g id=\"edge4\" class=\"edge\">\n<title>3&#45;&gt;4</title>\n<path fill=\"none\" stroke=\"#000000\" d=\"M668.4611,-579.8796C636.5803,-564.4576 601.0474,-547.2689 571.5839,-533.0162\"/>\n<polygon fill=\"#000000\" stroke=\"#000000\" points=\"572.7697,-529.7018 562.2435,-528.4979 569.7214,-536.0033 572.7697,-529.7018\"/>\n</g>\n<!-- 19 -->\n<g id=\"node20\" class=\"node\">\n<title>19</title>\n<path fill=\"#8ec7f0\" stroke=\"#000000\" d=\"M804,-544C804,-544 705,-544 705,-544 699,-544 693,-538 693,-532 693,-532 693,-473 693,-473 693,-467 699,-461 705,-461 705,-461 804,-461 804,-461 810,-461 816,-467 816,-473 816,-473 816,-532 816,-532 816,-538 810,-544 804,-544\"/>\n<text text-anchor=\"middle\" x=\"754.5\" y=\"-528.8\" font-family=\"Helvetica,sans-Serif\" font-size=\"14.00\" fill=\"#000000\">ANXIETY &lt;= 1.5</text>\n<text text-anchor=\"middle\" x=\"754.5\" y=\"-513.8\" font-family=\"Helvetica,sans-Serif\" font-size=\"14.00\" fill=\"#000000\">gini = 0.42</text>\n<text text-anchor=\"middle\" x=\"754.5\" y=\"-498.8\" font-family=\"Helvetica,sans-Serif\" font-size=\"14.00\" fill=\"#000000\">samples = 10</text>\n<text text-anchor=\"middle\" x=\"754.5\" y=\"-483.8\" font-family=\"Helvetica,sans-Serif\" font-size=\"14.00\" fill=\"#000000\">value = [3, 7]</text>\n<text text-anchor=\"middle\" x=\"754.5\" y=\"-468.8\" font-family=\"Helvetica,sans-Serif\" font-size=\"14.00\" fill=\"#000000\">class = No</text>\n</g>\n<!-- 3&#45;&gt;19 -->\n<g id=\"edge19\" class=\"edge\">\n<title>3&#45;&gt;19</title>\n<path fill=\"none\" stroke=\"#000000\" d=\"M754.5,-579.8796C754.5,-571.6838 754.5,-562.9891 754.5,-554.5013\"/>\n<polygon fill=\"#000000\" stroke=\"#000000\" points=\"758.0001,-554.298 754.5,-544.2981 751.0001,-554.2981 758.0001,-554.298\"/>\n</g>\n<!-- 5 -->\n<g id=\"node6\" class=\"node\">\n<title>5</title>\n<path fill=\"#b0d8f5\" stroke=\"#000000\" d=\"M359,-425C359,-425 188,-425 188,-425 182,-425 176,-419 176,-413 176,-413 176,-354 176,-354 176,-348 182,-342 188,-342 188,-342 359,-342 359,-342 365,-342 371,-348 371,-354 371,-354 371,-413 371,-413 371,-419 365,-425 359,-425\"/>\n<text text-anchor=\"middle\" x=\"273.5\" y=\"-409.8\" font-family=\"Helvetica,sans-Serif\" font-size=\"14.00\" fill=\"#000000\">CHRONIC DISEASE &lt;= 1.5</text>\n<text text-anchor=\"middle\" x=\"273.5\" y=\"-394.8\" font-family=\"Helvetica,sans-Serif\" font-size=\"14.00\" fill=\"#000000\">gini = 0.469</text>\n<text text-anchor=\"middle\" x=\"273.5\" y=\"-379.8\" font-family=\"Helvetica,sans-Serif\" font-size=\"14.00\" fill=\"#000000\">samples = 8</text>\n<text text-anchor=\"middle\" x=\"273.5\" y=\"-364.8\" font-family=\"Helvetica,sans-Serif\" font-size=\"14.00\" fill=\"#000000\">value = [3, 5]</text>\n<text text-anchor=\"middle\" x=\"273.5\" y=\"-349.8\" font-family=\"Helvetica,sans-Serif\" font-size=\"14.00\" fill=\"#000000\">class = No</text>\n</g>\n<!-- 4&#45;&gt;5 -->\n<g id=\"edge5\" class=\"edge\">\n<title>4&#45;&gt;5</title>\n<path fill=\"none\" stroke=\"#000000\" d=\"M454.8808,-475.3482C428.126,-461.8 395.0225,-445.0369 364.4496,-429.5553\"/>\n<polygon fill=\"#000000\" stroke=\"#000000\" points=\"365.9809,-426.4076 355.4783,-425.0124 362.8185,-432.6526 365.9809,-426.4076\"/>\n</g>\n<!-- 12 -->\n<g id=\"node13\" class=\"node\">\n<title>12</title>\n<path fill=\"#e9965a\" stroke=\"#000000\" d=\"M615.5,-425C615.5,-425 401.5,-425 401.5,-425 395.5,-425 389.5,-419 389.5,-413 389.5,-413 389.5,-354 389.5,-354 389.5,-348 395.5,-342 401.5,-342 401.5,-342 615.5,-342 615.5,-342 621.5,-342 627.5,-348 627.5,-354 627.5,-354 627.5,-413 627.5,-413 627.5,-419 621.5,-425 615.5,-425\"/>\n<text text-anchor=\"middle\" x=\"508.5\" y=\"-409.8\" font-family=\"Helvetica,sans-Serif\" font-size=\"14.00\" fill=\"#000000\">SHORTNESS OF BREATH &lt;= 1.5</text>\n<text text-anchor=\"middle\" x=\"508.5\" y=\"-394.8\" font-family=\"Helvetica,sans-Serif\" font-size=\"14.00\" fill=\"#000000\">gini = 0.245</text>\n<text text-anchor=\"middle\" x=\"508.5\" y=\"-379.8\" font-family=\"Helvetica,sans-Serif\" font-size=\"14.00\" fill=\"#000000\">samples = 14</text>\n<text text-anchor=\"middle\" x=\"508.5\" y=\"-364.8\" font-family=\"Helvetica,sans-Serif\" font-size=\"14.00\" fill=\"#000000\">value = [12, 2]</text>\n<text text-anchor=\"middle\" x=\"508.5\" y=\"-349.8\" font-family=\"Helvetica,sans-Serif\" font-size=\"14.00\" fill=\"#000000\">class = Yes</text>\n</g>\n<!-- 4&#45;&gt;12 -->\n<g id=\"edge12\" class=\"edge\">\n<title>4&#45;&gt;12</title>\n<path fill=\"none\" stroke=\"#000000\" d=\"M508.5,-460.8796C508.5,-452.6838 508.5,-443.9891 508.5,-435.5013\"/>\n<polygon fill=\"#000000\" stroke=\"#000000\" points=\"512.0001,-435.298 508.5,-425.2981 505.0001,-435.2981 512.0001,-435.298\"/>\n</g>\n<!-- 6 -->\n<g id=\"node7\" class=\"node\">\n<title>6</title>\n<path fill=\"#eeab7b\" stroke=\"#000000\" d=\"M243.5,-306C243.5,-306 167.5,-306 167.5,-306 161.5,-306 155.5,-300 155.5,-294 155.5,-294 155.5,-235 155.5,-235 155.5,-229 161.5,-223 167.5,-223 167.5,-223 243.5,-223 243.5,-223 249.5,-223 255.5,-229 255.5,-235 255.5,-235 255.5,-294 255.5,-294 255.5,-300 249.5,-306 243.5,-306\"/>\n<text text-anchor=\"middle\" x=\"205.5\" y=\"-290.8\" font-family=\"Helvetica,sans-Serif\" font-size=\"14.00\" fill=\"#000000\">AGE &lt;= 57.0</text>\n<text text-anchor=\"middle\" x=\"205.5\" y=\"-275.8\" font-family=\"Helvetica,sans-Serif\" font-size=\"14.00\" fill=\"#000000\">gini = 0.375</text>\n<text text-anchor=\"middle\" x=\"205.5\" y=\"-260.8\" font-family=\"Helvetica,sans-Serif\" font-size=\"14.00\" fill=\"#000000\">samples = 4</text>\n<text text-anchor=\"middle\" x=\"205.5\" y=\"-245.8\" font-family=\"Helvetica,sans-Serif\" font-size=\"14.00\" fill=\"#000000\">value = [3, 1]</text>\n<text text-anchor=\"middle\" x=\"205.5\" y=\"-230.8\" font-family=\"Helvetica,sans-Serif\" font-size=\"14.00\" fill=\"#000000\">class = Yes</text>\n</g>\n<!-- 5&#45;&gt;6 -->\n<g id=\"edge6\" class=\"edge\">\n<title>5&#45;&gt;6</title>\n<path fill=\"none\" stroke=\"#000000\" d=\"M249.7169,-341.8796C244.7763,-333.2335 239.5184,-324.0322 234.4167,-315.1042\"/>\n<polygon fill=\"#000000\" stroke=\"#000000\" points=\"237.3849,-313.244 229.3846,-306.2981 231.3072,-316.717 237.3849,-313.244\"/>\n</g>\n<!-- 11 -->\n<g id=\"node12\" class=\"node\">\n<title>11</title>\n<path fill=\"#399de5\" stroke=\"#000000\" d=\"M361,-298.5C361,-298.5 286,-298.5 286,-298.5 280,-298.5 274,-292.5 274,-286.5 274,-286.5 274,-242.5 274,-242.5 274,-236.5 280,-230.5 286,-230.5 286,-230.5 361,-230.5 361,-230.5 367,-230.5 373,-236.5 373,-242.5 373,-242.5 373,-286.5 373,-286.5 373,-292.5 367,-298.5 361,-298.5\"/>\n<text text-anchor=\"middle\" x=\"323.5\" y=\"-283.3\" font-family=\"Helvetica,sans-Serif\" font-size=\"14.00\" fill=\"#000000\">gini = 0.0</text>\n<text text-anchor=\"middle\" x=\"323.5\" y=\"-268.3\" font-family=\"Helvetica,sans-Serif\" font-size=\"14.00\" fill=\"#000000\">samples = 4</text>\n<text text-anchor=\"middle\" x=\"323.5\" y=\"-253.3\" font-family=\"Helvetica,sans-Serif\" font-size=\"14.00\" fill=\"#000000\">value = [0, 4]</text>\n<text text-anchor=\"middle\" x=\"323.5\" y=\"-238.3\" font-family=\"Helvetica,sans-Serif\" font-size=\"14.00\" fill=\"#000000\">class = No</text>\n</g>\n<!-- 5&#45;&gt;11 -->\n<g id=\"edge11\" class=\"edge\">\n<title>5&#45;&gt;11</title>\n<path fill=\"none\" stroke=\"#000000\" d=\"M290.9876,-341.8796C295.5616,-330.9935 300.5054,-319.227 305.1242,-308.2344\"/>\n<polygon fill=\"#000000\" stroke=\"#000000\" points=\"308.435,-309.39 309.082,-298.8149 301.9815,-306.6784 308.435,-309.39\"/>\n</g>\n<!-- 7 -->\n<g id=\"node8\" class=\"node\">\n<title>7</title>\n<path fill=\"#ffffff\" stroke=\"#000000\" d=\"M157,-187C157,-187 58,-187 58,-187 52,-187 46,-181 46,-175 46,-175 46,-116 46,-116 46,-110 52,-104 58,-104 58,-104 157,-104 157,-104 163,-104 169,-110 169,-116 169,-116 169,-175 169,-175 169,-181 163,-187 157,-187\"/>\n<text text-anchor=\"middle\" x=\"107.5\" y=\"-171.8\" font-family=\"Helvetica,sans-Serif\" font-size=\"14.00\" fill=\"#000000\">GENDER &lt;= 0.5</text>\n<text text-anchor=\"middle\" x=\"107.5\" y=\"-156.8\" font-family=\"Helvetica,sans-Serif\" font-size=\"14.00\" fill=\"#000000\">gini = 0.5</text>\n<text text-anchor=\"middle\" x=\"107.5\" y=\"-141.8\" font-family=\"Helvetica,sans-Serif\" font-size=\"14.00\" fill=\"#000000\">samples = 2</text>\n<text text-anchor=\"middle\" x=\"107.5\" y=\"-126.8\" font-family=\"Helvetica,sans-Serif\" font-size=\"14.00\" fill=\"#000000\">value = [1, 1]</text>\n<text text-anchor=\"middle\" x=\"107.5\" y=\"-111.8\" font-family=\"Helvetica,sans-Serif\" font-size=\"14.00\" fill=\"#000000\">class = Yes</text>\n</g>\n<!-- 6&#45;&gt;7 -->\n<g id=\"edge7\" class=\"edge\">\n<title>6&#45;&gt;7</title>\n<path fill=\"none\" stroke=\"#000000\" d=\"M171.2244,-222.8796C163.8816,-213.9633 156.0524,-204.4565 148.4854,-195.268\"/>\n<polygon fill=\"#000000\" stroke=\"#000000\" points=\"150.9808,-192.7924 141.9219,-187.2981 145.5773,-197.2424 150.9808,-192.7924\"/>\n</g>\n<!-- 10 -->\n<g id=\"node11\" class=\"node\">\n<title>10</title>\n<path fill=\"#e58139\" stroke=\"#000000\" d=\"M274,-179.5C274,-179.5 199,-179.5 199,-179.5 193,-179.5 187,-173.5 187,-167.5 187,-167.5 187,-123.5 187,-123.5 187,-117.5 193,-111.5 199,-111.5 199,-111.5 274,-111.5 274,-111.5 280,-111.5 286,-117.5 286,-123.5 286,-123.5 286,-167.5 286,-167.5 286,-173.5 280,-179.5 274,-179.5\"/>\n<text text-anchor=\"middle\" x=\"236.5\" y=\"-164.3\" font-family=\"Helvetica,sans-Serif\" font-size=\"14.00\" fill=\"#000000\">gini = 0.0</text>\n<text text-anchor=\"middle\" x=\"236.5\" y=\"-149.3\" font-family=\"Helvetica,sans-Serif\" font-size=\"14.00\" fill=\"#000000\">samples = 2</text>\n<text text-anchor=\"middle\" x=\"236.5\" y=\"-134.3\" font-family=\"Helvetica,sans-Serif\" font-size=\"14.00\" fill=\"#000000\">value = [2, 0]</text>\n<text text-anchor=\"middle\" x=\"236.5\" y=\"-119.3\" font-family=\"Helvetica,sans-Serif\" font-size=\"14.00\" fill=\"#000000\">class = Yes</text>\n</g>\n<!-- 6&#45;&gt;10 -->\n<g id=\"edge10\" class=\"edge\">\n<title>6&#45;&gt;10</title>\n<path fill=\"none\" stroke=\"#000000\" d=\"M216.3423,-222.8796C219.1495,-212.1034 222.1815,-200.4647 225.0202,-189.5677\"/>\n<polygon fill=\"#000000\" stroke=\"#000000\" points=\"228.4268,-190.3743 227.5608,-179.8149 221.6529,-188.6096 228.4268,-190.3743\"/>\n</g>\n<!-- 8 -->\n<g id=\"node9\" class=\"node\">\n<title>8</title>\n<path fill=\"#e58139\" stroke=\"#000000\" d=\"M87,-68C87,-68 12,-68 12,-68 6,-68 0,-62 0,-56 0,-56 0,-12 0,-12 0,-6 6,0 12,0 12,0 87,0 87,0 93,0 99,-6 99,-12 99,-12 99,-56 99,-56 99,-62 93,-68 87,-68\"/>\n<text text-anchor=\"middle\" x=\"49.5\" y=\"-52.8\" font-family=\"Helvetica,sans-Serif\" font-size=\"14.00\" fill=\"#000000\">gini = 0.0</text>\n<text text-anchor=\"middle\" x=\"49.5\" y=\"-37.8\" font-family=\"Helvetica,sans-Serif\" font-size=\"14.00\" fill=\"#000000\">samples = 1</text>\n<text text-anchor=\"middle\" x=\"49.5\" y=\"-22.8\" font-family=\"Helvetica,sans-Serif\" font-size=\"14.00\" fill=\"#000000\">value = [1, 0]</text>\n<text text-anchor=\"middle\" x=\"49.5\" y=\"-7.8\" font-family=\"Helvetica,sans-Serif\" font-size=\"14.00\" fill=\"#000000\">class = Yes</text>\n</g>\n<!-- 7&#45;&gt;8 -->\n<g id=\"edge8\" class=\"edge\">\n<title>7&#45;&gt;8</title>\n<path fill=\"none\" stroke=\"#000000\" d=\"M85.9029,-103.9815C81.3612,-95.2504 76.5598,-86.0202 71.9863,-77.2281\"/>\n<polygon fill=\"#000000\" stroke=\"#000000\" points=\"75.0431,-75.52 67.3233,-68.2637 68.8331,-78.7504 75.0431,-75.52\"/>\n</g>\n<!-- 9 -->\n<g id=\"node10\" class=\"node\">\n<title>9</title>\n<path fill=\"#399de5\" stroke=\"#000000\" d=\"M204,-68C204,-68 129,-68 129,-68 123,-68 117,-62 117,-56 117,-56 117,-12 117,-12 117,-6 123,0 129,0 129,0 204,0 204,0 210,0 216,-6 216,-12 216,-12 216,-56 216,-56 216,-62 210,-68 204,-68\"/>\n<text text-anchor=\"middle\" x=\"166.5\" y=\"-52.8\" font-family=\"Helvetica,sans-Serif\" font-size=\"14.00\" fill=\"#000000\">gini = 0.0</text>\n<text text-anchor=\"middle\" x=\"166.5\" y=\"-37.8\" font-family=\"Helvetica,sans-Serif\" font-size=\"14.00\" fill=\"#000000\">samples = 1</text>\n<text text-anchor=\"middle\" x=\"166.5\" y=\"-22.8\" font-family=\"Helvetica,sans-Serif\" font-size=\"14.00\" fill=\"#000000\">value = [0, 1]</text>\n<text text-anchor=\"middle\" x=\"166.5\" y=\"-7.8\" font-family=\"Helvetica,sans-Serif\" font-size=\"14.00\" fill=\"#000000\">class = No</text>\n</g>\n<!-- 7&#45;&gt;9 -->\n<g id=\"edge9\" class=\"edge\">\n<title>7&#45;&gt;9</title>\n<path fill=\"none\" stroke=\"#000000\" d=\"M129.4694,-103.9815C134.0895,-95.2504 138.9736,-86.0202 143.626,-77.2281\"/>\n<polygon fill=\"#000000\" stroke=\"#000000\" points=\"146.7859,-78.7395 148.3694,-68.2637 140.5987,-75.4655 146.7859,-78.7395\"/>\n</g>\n<!-- 13 -->\n<g id=\"node14\" class=\"node\">\n<title>13</title>\n<path fill=\"#efb388\" stroke=\"#000000\" d=\"M509,-306C509,-306 410,-306 410,-306 404,-306 398,-300 398,-294 398,-294 398,-235 398,-235 398,-229 404,-223 410,-223 410,-223 509,-223 509,-223 515,-223 521,-229 521,-235 521,-235 521,-294 521,-294 521,-300 515,-306 509,-306\"/>\n<text text-anchor=\"middle\" x=\"459.5\" y=\"-290.8\" font-family=\"Helvetica,sans-Serif\" font-size=\"14.00\" fill=\"#000000\">GENDER &lt;= 0.5</text>\n<text text-anchor=\"middle\" x=\"459.5\" y=\"-275.8\" font-family=\"Helvetica,sans-Serif\" font-size=\"14.00\" fill=\"#000000\">gini = 0.408</text>\n<text text-anchor=\"middle\" x=\"459.5\" y=\"-260.8\" font-family=\"Helvetica,sans-Serif\" font-size=\"14.00\" fill=\"#000000\">samples = 7</text>\n<text text-anchor=\"middle\" x=\"459.5\" y=\"-245.8\" font-family=\"Helvetica,sans-Serif\" font-size=\"14.00\" fill=\"#000000\">value = [5, 2]</text>\n<text text-anchor=\"middle\" x=\"459.5\" y=\"-230.8\" font-family=\"Helvetica,sans-Serif\" font-size=\"14.00\" fill=\"#000000\">class = Yes</text>\n</g>\n<!-- 12&#45;&gt;13 -->\n<g id=\"edge13\" class=\"edge\">\n<title>12&#45;&gt;13</title>\n<path fill=\"none\" stroke=\"#000000\" d=\"M491.3622,-341.8796C487.8762,-333.4136 484.171,-324.4153 480.5669,-315.6626\"/>\n<polygon fill=\"#000000\" stroke=\"#000000\" points=\"483.7549,-314.2122 476.711,-306.2981 477.2822,-316.8775 483.7549,-314.2122\"/>\n</g>\n<!-- 18 -->\n<g id=\"node19\" class=\"node\">\n<title>18</title>\n<path fill=\"#e58139\" stroke=\"#000000\" d=\"M626,-298.5C626,-298.5 551,-298.5 551,-298.5 545,-298.5 539,-292.5 539,-286.5 539,-286.5 539,-242.5 539,-242.5 539,-236.5 545,-230.5 551,-230.5 551,-230.5 626,-230.5 626,-230.5 632,-230.5 638,-236.5 638,-242.5 638,-242.5 638,-286.5 638,-286.5 638,-292.5 632,-298.5 626,-298.5\"/>\n<text text-anchor=\"middle\" x=\"588.5\" y=\"-283.3\" font-family=\"Helvetica,sans-Serif\" font-size=\"14.00\" fill=\"#000000\">gini = 0.0</text>\n<text text-anchor=\"middle\" x=\"588.5\" y=\"-268.3\" font-family=\"Helvetica,sans-Serif\" font-size=\"14.00\" fill=\"#000000\">samples = 7</text>\n<text text-anchor=\"middle\" x=\"588.5\" y=\"-253.3\" font-family=\"Helvetica,sans-Serif\" font-size=\"14.00\" fill=\"#000000\">value = [7, 0]</text>\n<text text-anchor=\"middle\" x=\"588.5\" y=\"-238.3\" font-family=\"Helvetica,sans-Serif\" font-size=\"14.00\" fill=\"#000000\">class = Yes</text>\n</g>\n<!-- 12&#45;&gt;18 -->\n<g id=\"edge18\" class=\"edge\">\n<title>12&#45;&gt;18</title>\n<path fill=\"none\" stroke=\"#000000\" d=\"M536.4801,-341.8796C544.0203,-330.6636 552.1887,-318.5131 559.7691,-307.2372\"/>\n<polygon fill=\"#000000\" stroke=\"#000000\" points=\"562.7566,-309.0667 565.4311,-298.8149 556.9473,-305.1612 562.7566,-309.0667\"/>\n</g>\n<!-- 14 -->\n<g id=\"node15\" class=\"node\">\n<title>14</title>\n<path fill=\"#9ccef2\" stroke=\"#000000\" d=\"M482,-187C482,-187 377,-187 377,-187 371,-187 365,-181 365,-175 365,-175 365,-116 365,-116 365,-110 371,-104 377,-104 377,-104 482,-104 482,-104 488,-104 494,-110 494,-116 494,-116 494,-175 494,-175 494,-181 488,-187 482,-187\"/>\n<text text-anchor=\"middle\" x=\"429.5\" y=\"-171.8\" font-family=\"Helvetica,sans-Serif\" font-size=\"14.00\" fill=\"#000000\">SMOKING &lt;= 1.5</text>\n<text text-anchor=\"middle\" x=\"429.5\" y=\"-156.8\" font-family=\"Helvetica,sans-Serif\" font-size=\"14.00\" fill=\"#000000\">gini = 0.444</text>\n<text text-anchor=\"middle\" x=\"429.5\" y=\"-141.8\" font-family=\"Helvetica,sans-Serif\" font-size=\"14.00\" fill=\"#000000\">samples = 3</text>\n<text text-anchor=\"middle\" x=\"429.5\" y=\"-126.8\" font-family=\"Helvetica,sans-Serif\" font-size=\"14.00\" fill=\"#000000\">value = [1, 2]</text>\n<text text-anchor=\"middle\" x=\"429.5\" y=\"-111.8\" font-family=\"Helvetica,sans-Serif\" font-size=\"14.00\" fill=\"#000000\">class = No</text>\n</g>\n<!-- 13&#45;&gt;14 -->\n<g id=\"edge14\" class=\"edge\">\n<title>13&#45;&gt;14</title>\n<path fill=\"none\" stroke=\"#000000\" d=\"M449.0075,-222.8796C446.9186,-214.5938 444.7012,-205.798 442.5391,-197.2216\"/>\n<polygon fill=\"#000000\" stroke=\"#000000\" points=\"445.8757,-196.1391 440.0373,-187.2981 439.0881,-197.8503 445.8757,-196.1391\"/>\n</g>\n<!-- 17 -->\n<g id=\"node18\" class=\"node\">\n<title>17</title>\n<path fill=\"#e58139\" stroke=\"#000000\" d=\"M599,-179.5C599,-179.5 524,-179.5 524,-179.5 518,-179.5 512,-173.5 512,-167.5 512,-167.5 512,-123.5 512,-123.5 512,-117.5 518,-111.5 524,-111.5 524,-111.5 599,-111.5 599,-111.5 605,-111.5 611,-117.5 611,-123.5 611,-123.5 611,-167.5 611,-167.5 611,-173.5 605,-179.5 599,-179.5\"/>\n<text text-anchor=\"middle\" x=\"561.5\" y=\"-164.3\" font-family=\"Helvetica,sans-Serif\" font-size=\"14.00\" fill=\"#000000\">gini = 0.0</text>\n<text text-anchor=\"middle\" x=\"561.5\" y=\"-149.3\" font-family=\"Helvetica,sans-Serif\" font-size=\"14.00\" fill=\"#000000\">samples = 4</text>\n<text text-anchor=\"middle\" x=\"561.5\" y=\"-134.3\" font-family=\"Helvetica,sans-Serif\" font-size=\"14.00\" fill=\"#000000\">value = [4, 0]</text>\n<text text-anchor=\"middle\" x=\"561.5\" y=\"-119.3\" font-family=\"Helvetica,sans-Serif\" font-size=\"14.00\" fill=\"#000000\">class = Yes</text>\n</g>\n<!-- 13&#45;&gt;17 -->\n<g id=\"edge17\" class=\"edge\">\n<title>13&#45;&gt;17</title>\n<path fill=\"none\" stroke=\"#000000\" d=\"M495.1747,-222.8796C504.9769,-211.4436 515.6118,-199.0363 525.4357,-187.575\"/>\n<polygon fill=\"#000000\" stroke=\"#000000\" points=\"528.2367,-189.6853 532.0872,-179.8149 522.9218,-185.1297 528.2367,-189.6853\"/>\n</g>\n<!-- 15 -->\n<g id=\"node16\" class=\"node\">\n<title>15</title>\n<path fill=\"#399de5\" stroke=\"#000000\" d=\"M425,-68C425,-68 350,-68 350,-68 344,-68 338,-62 338,-56 338,-56 338,-12 338,-12 338,-6 344,0 350,0 350,0 425,0 425,0 431,0 437,-6 437,-12 437,-12 437,-56 437,-56 437,-62 431,-68 425,-68\"/>\n<text text-anchor=\"middle\" x=\"387.5\" y=\"-52.8\" font-family=\"Helvetica,sans-Serif\" font-size=\"14.00\" fill=\"#000000\">gini = 0.0</text>\n<text text-anchor=\"middle\" x=\"387.5\" y=\"-37.8\" font-family=\"Helvetica,sans-Serif\" font-size=\"14.00\" fill=\"#000000\">samples = 2</text>\n<text text-anchor=\"middle\" x=\"387.5\" y=\"-22.8\" font-family=\"Helvetica,sans-Serif\" font-size=\"14.00\" fill=\"#000000\">value = [0, 2]</text>\n<text text-anchor=\"middle\" x=\"387.5\" y=\"-7.8\" font-family=\"Helvetica,sans-Serif\" font-size=\"14.00\" fill=\"#000000\">class = No</text>\n</g>\n<!-- 14&#45;&gt;15 -->\n<g id=\"edge15\" class=\"edge\">\n<title>14&#45;&gt;15</title>\n<path fill=\"none\" stroke=\"#000000\" d=\"M413.8608,-103.9815C410.6411,-95.4342 407.2413,-86.4086 403.9926,-77.7839\"/>\n<polygon fill=\"#000000\" stroke=\"#000000\" points=\"407.2069,-76.388 400.4065,-68.2637 400.6562,-78.8556 407.2069,-76.388\"/>\n</g>\n<!-- 16 -->\n<g id=\"node17\" class=\"node\">\n<title>16</title>\n<path fill=\"#e58139\" stroke=\"#000000\" d=\"M542,-68C542,-68 467,-68 467,-68 461,-68 455,-62 455,-56 455,-56 455,-12 455,-12 455,-6 461,0 467,0 467,0 542,0 542,0 548,0 554,-6 554,-12 554,-12 554,-56 554,-56 554,-62 548,-68 542,-68\"/>\n<text text-anchor=\"middle\" x=\"504.5\" y=\"-52.8\" font-family=\"Helvetica,sans-Serif\" font-size=\"14.00\" fill=\"#000000\">gini = 0.0</text>\n<text text-anchor=\"middle\" x=\"504.5\" y=\"-37.8\" font-family=\"Helvetica,sans-Serif\" font-size=\"14.00\" fill=\"#000000\">samples = 1</text>\n<text text-anchor=\"middle\" x=\"504.5\" y=\"-22.8\" font-family=\"Helvetica,sans-Serif\" font-size=\"14.00\" fill=\"#000000\">value = [1, 0]</text>\n<text text-anchor=\"middle\" x=\"504.5\" y=\"-7.8\" font-family=\"Helvetica,sans-Serif\" font-size=\"14.00\" fill=\"#000000\">class = Yes</text>\n</g>\n<!-- 14&#45;&gt;16 -->\n<g id=\"edge16\" class=\"edge\">\n<title>14&#45;&gt;16</title>\n<path fill=\"none\" stroke=\"#000000\" d=\"M457.4272,-103.9815C463.4238,-95.0666 469.7704,-85.6313 475.7959,-76.6734\"/>\n<polygon fill=\"#000000\" stroke=\"#000000\" points=\"478.7755,-78.5147 481.4527,-68.2637 472.9672,-74.6078 478.7755,-78.5147\"/>\n</g>\n<!-- 20 -->\n<g id=\"node21\" class=\"node\">\n<title>20</title>\n<path fill=\"#e58139\" stroke=\"#000000\" d=\"M733,-417.5C733,-417.5 658,-417.5 658,-417.5 652,-417.5 646,-411.5 646,-405.5 646,-405.5 646,-361.5 646,-361.5 646,-355.5 652,-349.5 658,-349.5 658,-349.5 733,-349.5 733,-349.5 739,-349.5 745,-355.5 745,-361.5 745,-361.5 745,-405.5 745,-405.5 745,-411.5 739,-417.5 733,-417.5\"/>\n<text text-anchor=\"middle\" x=\"695.5\" y=\"-402.3\" font-family=\"Helvetica,sans-Serif\" font-size=\"14.00\" fill=\"#000000\">gini = 0.0</text>\n<text text-anchor=\"middle\" x=\"695.5\" y=\"-387.3\" font-family=\"Helvetica,sans-Serif\" font-size=\"14.00\" fill=\"#000000\">samples = 3</text>\n<text text-anchor=\"middle\" x=\"695.5\" y=\"-372.3\" font-family=\"Helvetica,sans-Serif\" font-size=\"14.00\" fill=\"#000000\">value = [3, 0]</text>\n<text text-anchor=\"middle\" x=\"695.5\" y=\"-357.3\" font-family=\"Helvetica,sans-Serif\" font-size=\"14.00\" fill=\"#000000\">class = Yes</text>\n</g>\n<!-- 19&#45;&gt;20 -->\n<g id=\"edge20\" class=\"edge\">\n<title>19&#45;&gt;20</title>\n<path fill=\"none\" stroke=\"#000000\" d=\"M733.8647,-460.8796C728.4128,-449.8835 722.5157,-437.9893 717.0184,-426.9015\"/>\n<polygon fill=\"#000000\" stroke=\"#000000\" points=\"720.0911,-425.2195 712.5133,-417.8149 713.8196,-428.3289 720.0911,-425.2195\"/>\n</g>\n<!-- 21 -->\n<g id=\"node22\" class=\"node\">\n<title>21</title>\n<path fill=\"#399de5\" stroke=\"#000000\" d=\"M850,-417.5C850,-417.5 775,-417.5 775,-417.5 769,-417.5 763,-411.5 763,-405.5 763,-405.5 763,-361.5 763,-361.5 763,-355.5 769,-349.5 775,-349.5 775,-349.5 850,-349.5 850,-349.5 856,-349.5 862,-355.5 862,-361.5 862,-361.5 862,-405.5 862,-405.5 862,-411.5 856,-417.5 850,-417.5\"/>\n<text text-anchor=\"middle\" x=\"812.5\" y=\"-402.3\" font-family=\"Helvetica,sans-Serif\" font-size=\"14.00\" fill=\"#000000\">gini = 0.0</text>\n<text text-anchor=\"middle\" x=\"812.5\" y=\"-387.3\" font-family=\"Helvetica,sans-Serif\" font-size=\"14.00\" fill=\"#000000\">samples = 7</text>\n<text text-anchor=\"middle\" x=\"812.5\" y=\"-372.3\" font-family=\"Helvetica,sans-Serif\" font-size=\"14.00\" fill=\"#000000\">value = [0, 7]</text>\n<text text-anchor=\"middle\" x=\"812.5\" y=\"-357.3\" font-family=\"Helvetica,sans-Serif\" font-size=\"14.00\" fill=\"#000000\">class = No</text>\n</g>\n<!-- 19&#45;&gt;21 -->\n<g id=\"edge21\" class=\"edge\">\n<title>19&#45;&gt;21</title>\n<path fill=\"none\" stroke=\"#000000\" d=\"M774.7856,-460.8796C780.145,-449.8835 785.9422,-437.9893 791.3463,-426.9015\"/>\n<polygon fill=\"#000000\" stroke=\"#000000\" points=\"794.54,-428.3375 795.7751,-417.8149 788.2476,-425.2706 794.54,-428.3375\"/>\n</g>\n<!-- 23 -->\n<g id=\"node24\" class=\"node\">\n<title>23</title>\n<path fill=\"#f8e0ce\" stroke=\"#000000\" d=\"M1224.5,-544C1224.5,-544 1148.5,-544 1148.5,-544 1142.5,-544 1136.5,-538 1136.5,-532 1136.5,-532 1136.5,-473 1136.5,-473 1136.5,-467 1142.5,-461 1148.5,-461 1148.5,-461 1224.5,-461 1224.5,-461 1230.5,-461 1236.5,-467 1236.5,-473 1236.5,-473 1236.5,-532 1236.5,-532 1236.5,-538 1230.5,-544 1224.5,-544\"/>\n<text text-anchor=\"middle\" x=\"1186.5\" y=\"-528.8\" font-family=\"Helvetica,sans-Serif\" font-size=\"14.00\" fill=\"#000000\">AGE &lt;= 61.5</text>\n<text text-anchor=\"middle\" x=\"1186.5\" y=\"-513.8\" font-family=\"Helvetica,sans-Serif\" font-size=\"14.00\" fill=\"#000000\">gini = 0.49</text>\n<text text-anchor=\"middle\" x=\"1186.5\" y=\"-498.8\" font-family=\"Helvetica,sans-Serif\" font-size=\"14.00\" fill=\"#000000\">samples = 7</text>\n<text text-anchor=\"middle\" x=\"1186.5\" y=\"-483.8\" font-family=\"Helvetica,sans-Serif\" font-size=\"14.00\" fill=\"#000000\">value = [4, 3]</text>\n<text text-anchor=\"middle\" x=\"1186.5\" y=\"-468.8\" font-family=\"Helvetica,sans-Serif\" font-size=\"14.00\" fill=\"#000000\">class = Yes</text>\n</g>\n<!-- 22&#45;&gt;23 -->\n<g id=\"edge23\" class=\"edge\">\n<title>22&#45;&gt;23</title>\n<path fill=\"none\" stroke=\"#000000\" d=\"M1229.4164,-579.8796C1224.6211,-571.2335 1219.5178,-562.0322 1214.5662,-553.1042\"/>\n<polygon fill=\"#000000\" stroke=\"#000000\" points=\"1217.5931,-551.3455 1209.6821,-544.2981 1211.4716,-554.7407 1217.5931,-551.3455\"/>\n</g>\n<!-- 30 -->\n<g id=\"node31\" class=\"node\">\n<title>30</title>\n<path fill=\"#5aade9\" stroke=\"#000000\" d=\"M1360,-544C1360,-544 1277,-544 1277,-544 1271,-544 1265,-538 1265,-532 1265,-532 1265,-473 1265,-473 1265,-467 1271,-461 1277,-461 1277,-461 1360,-461 1360,-461 1366,-461 1372,-467 1372,-473 1372,-473 1372,-532 1372,-532 1372,-538 1366,-544 1360,-544\"/>\n<text text-anchor=\"middle\" x=\"1318.5\" y=\"-528.8\" font-family=\"Helvetica,sans-Serif\" font-size=\"14.00\" fill=\"#000000\">AGE &lt;= 60.0</text>\n<text text-anchor=\"middle\" x=\"1318.5\" y=\"-513.8\" font-family=\"Helvetica,sans-Serif\" font-size=\"14.00\" fill=\"#000000\">gini = 0.245</text>\n<text text-anchor=\"middle\" x=\"1318.5\" y=\"-498.8\" font-family=\"Helvetica,sans-Serif\" font-size=\"14.00\" fill=\"#000000\">samples = 21</text>\n<text text-anchor=\"middle\" x=\"1318.5\" y=\"-483.8\" font-family=\"Helvetica,sans-Serif\" font-size=\"14.00\" fill=\"#000000\">value = [3, 18]</text>\n<text text-anchor=\"middle\" x=\"1318.5\" y=\"-468.8\" font-family=\"Helvetica,sans-Serif\" font-size=\"14.00\" fill=\"#000000\">class = No</text>\n</g>\n<!-- 22&#45;&gt;30 -->\n<g id=\"edge30\" class=\"edge\">\n<title>22&#45;&gt;30</title>\n<path fill=\"none\" stroke=\"#000000\" d=\"M1275.5836,-579.8796C1280.3789,-571.2335 1285.4822,-562.0322 1290.4338,-553.1042\"/>\n<polygon fill=\"#000000\" stroke=\"#000000\" points=\"1293.5284,-554.7407 1295.3179,-544.2981 1287.4069,-551.3455 1293.5284,-554.7407\"/>\n</g>\n<!-- 24 -->\n<g id=\"node25\" class=\"node\">\n<title>24</title>\n<path fill=\"#7bbeee\" stroke=\"#000000\" d=\"M1106.5,-425C1106.5,-425 892.5,-425 892.5,-425 886.5,-425 880.5,-419 880.5,-413 880.5,-413 880.5,-354 880.5,-354 880.5,-348 886.5,-342 892.5,-342 892.5,-342 1106.5,-342 1106.5,-342 1112.5,-342 1118.5,-348 1118.5,-354 1118.5,-354 1118.5,-413 1118.5,-413 1118.5,-419 1112.5,-425 1106.5,-425\"/>\n<text text-anchor=\"middle\" x=\"999.5\" y=\"-409.8\" font-family=\"Helvetica,sans-Serif\" font-size=\"14.00\" fill=\"#000000\">SHORTNESS OF BREATH &lt;= 1.5</text>\n<text text-anchor=\"middle\" x=\"999.5\" y=\"-394.8\" font-family=\"Helvetica,sans-Serif\" font-size=\"14.00\" fill=\"#000000\">gini = 0.375</text>\n<text text-anchor=\"middle\" x=\"999.5\" y=\"-379.8\" font-family=\"Helvetica,sans-Serif\" font-size=\"14.00\" fill=\"#000000\">samples = 4</text>\n<text text-anchor=\"middle\" x=\"999.5\" y=\"-364.8\" font-family=\"Helvetica,sans-Serif\" font-size=\"14.00\" fill=\"#000000\">value = [1, 3]</text>\n<text text-anchor=\"middle\" x=\"999.5\" y=\"-349.8\" font-family=\"Helvetica,sans-Serif\" font-size=\"14.00\" fill=\"#000000\">class = No</text>\n</g>\n<!-- 23&#45;&gt;24 -->\n<g id=\"edge24\" class=\"edge\">\n<title>23&#45;&gt;24</title>\n<path fill=\"none\" stroke=\"#000000\" d=\"M1136.3874,-470.6102C1117.085,-458.3268 1094.6126,-444.0262 1073.5235,-430.6059\"/>\n<polygon fill=\"#000000\" stroke=\"#000000\" points=\"1075.2131,-427.5325 1064.8974,-425.1165 1071.4549,-433.4381 1075.2131,-427.5325\"/>\n</g>\n<!-- 29 -->\n<g id=\"node30\" class=\"node\">\n<title>29</title>\n<path fill=\"#e58139\" stroke=\"#000000\" d=\"M1224,-417.5C1224,-417.5 1149,-417.5 1149,-417.5 1143,-417.5 1137,-411.5 1137,-405.5 1137,-405.5 1137,-361.5 1137,-361.5 1137,-355.5 1143,-349.5 1149,-349.5 1149,-349.5 1224,-349.5 1224,-349.5 1230,-349.5 1236,-355.5 1236,-361.5 1236,-361.5 1236,-405.5 1236,-405.5 1236,-411.5 1230,-417.5 1224,-417.5\"/>\n<text text-anchor=\"middle\" x=\"1186.5\" y=\"-402.3\" font-family=\"Helvetica,sans-Serif\" font-size=\"14.00\" fill=\"#000000\">gini = 0.0</text>\n<text text-anchor=\"middle\" x=\"1186.5\" y=\"-387.3\" font-family=\"Helvetica,sans-Serif\" font-size=\"14.00\" fill=\"#000000\">samples = 3</text>\n<text text-anchor=\"middle\" x=\"1186.5\" y=\"-372.3\" font-family=\"Helvetica,sans-Serif\" font-size=\"14.00\" fill=\"#000000\">value = [3, 0]</text>\n<text text-anchor=\"middle\" x=\"1186.5\" y=\"-357.3\" font-family=\"Helvetica,sans-Serif\" font-size=\"14.00\" fill=\"#000000\">class = Yes</text>\n</g>\n<!-- 23&#45;&gt;29 -->\n<g id=\"edge29\" class=\"edge\">\n<title>23&#45;&gt;29</title>\n<path fill=\"none\" stroke=\"#000000\" d=\"M1186.5,-460.8796C1186.5,-450.2134 1186.5,-438.7021 1186.5,-427.9015\"/>\n<polygon fill=\"#000000\" stroke=\"#000000\" points=\"1190.0001,-427.8149 1186.5,-417.8149 1183.0001,-427.815 1190.0001,-427.8149\"/>\n</g>\n<!-- 25 -->\n<g id=\"node26\" class=\"node\">\n<title>25</title>\n<path fill=\"#ffffff\" stroke=\"#000000\" d=\"M935.5,-306C935.5,-306 859.5,-306 859.5,-306 853.5,-306 847.5,-300 847.5,-294 847.5,-294 847.5,-235 847.5,-235 847.5,-229 853.5,-223 859.5,-223 859.5,-223 935.5,-223 935.5,-223 941.5,-223 947.5,-229 947.5,-235 947.5,-235 947.5,-294 947.5,-294 947.5,-300 941.5,-306 935.5,-306\"/>\n<text text-anchor=\"middle\" x=\"897.5\" y=\"-290.8\" font-family=\"Helvetica,sans-Serif\" font-size=\"14.00\" fill=\"#000000\">AGE &lt;= 54.5</text>\n<text text-anchor=\"middle\" x=\"897.5\" y=\"-275.8\" font-family=\"Helvetica,sans-Serif\" font-size=\"14.00\" fill=\"#000000\">gini = 0.5</text>\n<text text-anchor=\"middle\" x=\"897.5\" y=\"-260.8\" font-family=\"Helvetica,sans-Serif\" font-size=\"14.00\" fill=\"#000000\">samples = 2</text>\n<text text-anchor=\"middle\" x=\"897.5\" y=\"-245.8\" font-family=\"Helvetica,sans-Serif\" font-size=\"14.00\" fill=\"#000000\">value = [1, 1]</text>\n<text text-anchor=\"middle\" x=\"897.5\" y=\"-230.8\" font-family=\"Helvetica,sans-Serif\" font-size=\"14.00\" fill=\"#000000\">class = Yes</text>\n</g>\n<!-- 24&#45;&gt;25 -->\n<g id=\"edge25\" class=\"edge\">\n<title>24&#45;&gt;25</title>\n<path fill=\"none\" stroke=\"#000000\" d=\"M963.8253,-341.8796C956.1057,-332.8733 947.8695,-323.2644 939.9197,-313.9897\"/>\n<polygon fill=\"#000000\" stroke=\"#000000\" points=\"942.4923,-311.6129 933.3269,-306.2981 937.1775,-316.1684 942.4923,-311.6129\"/>\n</g>\n<!-- 28 -->\n<g id=\"node29\" class=\"node\">\n<title>28</title>\n<path fill=\"#399de5\" stroke=\"#000000\" d=\"M1053,-298.5C1053,-298.5 978,-298.5 978,-298.5 972,-298.5 966,-292.5 966,-286.5 966,-286.5 966,-242.5 966,-242.5 966,-236.5 972,-230.5 978,-230.5 978,-230.5 1053,-230.5 1053,-230.5 1059,-230.5 1065,-236.5 1065,-242.5 1065,-242.5 1065,-286.5 1065,-286.5 1065,-292.5 1059,-298.5 1053,-298.5\"/>\n<text text-anchor=\"middle\" x=\"1015.5\" y=\"-283.3\" font-family=\"Helvetica,sans-Serif\" font-size=\"14.00\" fill=\"#000000\">gini = 0.0</text>\n<text text-anchor=\"middle\" x=\"1015.5\" y=\"-268.3\" font-family=\"Helvetica,sans-Serif\" font-size=\"14.00\" fill=\"#000000\">samples = 2</text>\n<text text-anchor=\"middle\" x=\"1015.5\" y=\"-253.3\" font-family=\"Helvetica,sans-Serif\" font-size=\"14.00\" fill=\"#000000\">value = [0, 2]</text>\n<text text-anchor=\"middle\" x=\"1015.5\" y=\"-238.3\" font-family=\"Helvetica,sans-Serif\" font-size=\"14.00\" fill=\"#000000\">class = No</text>\n</g>\n<!-- 24&#45;&gt;28 -->\n<g id=\"edge28\" class=\"edge\">\n<title>24&#45;&gt;28</title>\n<path fill=\"none\" stroke=\"#000000\" d=\"M1005.096,-341.8796C1006.5301,-331.2134 1008.0779,-319.7021 1009.53,-308.9015\"/>\n<polygon fill=\"#000000\" stroke=\"#000000\" points=\"1013.0224,-309.1922 1010.8862,-298.8149 1006.0848,-308.2593 1013.0224,-309.1922\"/>\n</g>\n<!-- 26 -->\n<g id=\"node27\" class=\"node\">\n<title>26</title>\n<path fill=\"#399de5\" stroke=\"#000000\" d=\"M877,-179.5C877,-179.5 802,-179.5 802,-179.5 796,-179.5 790,-173.5 790,-167.5 790,-167.5 790,-123.5 790,-123.5 790,-117.5 796,-111.5 802,-111.5 802,-111.5 877,-111.5 877,-111.5 883,-111.5 889,-117.5 889,-123.5 889,-123.5 889,-167.5 889,-167.5 889,-173.5 883,-179.5 877,-179.5\"/>\n<text text-anchor=\"middle\" x=\"839.5\" y=\"-164.3\" font-family=\"Helvetica,sans-Serif\" font-size=\"14.00\" fill=\"#000000\">gini = 0.0</text>\n<text text-anchor=\"middle\" x=\"839.5\" y=\"-149.3\" font-family=\"Helvetica,sans-Serif\" font-size=\"14.00\" fill=\"#000000\">samples = 1</text>\n<text text-anchor=\"middle\" x=\"839.5\" y=\"-134.3\" font-family=\"Helvetica,sans-Serif\" font-size=\"14.00\" fill=\"#000000\">value = [0, 1]</text>\n<text text-anchor=\"middle\" x=\"839.5\" y=\"-119.3\" font-family=\"Helvetica,sans-Serif\" font-size=\"14.00\" fill=\"#000000\">class = No</text>\n</g>\n<!-- 25&#45;&gt;26 -->\n<g id=\"edge26\" class=\"edge\">\n<title>25&#45;&gt;26</title>\n<path fill=\"none\" stroke=\"#000000\" d=\"M877.2144,-222.8796C871.855,-211.8835 866.0578,-199.9893 860.6537,-188.9015\"/>\n<polygon fill=\"#000000\" stroke=\"#000000\" points=\"863.7524,-187.2706 856.2249,-179.8149 857.46,-190.3375 863.7524,-187.2706\"/>\n</g>\n<!-- 27 -->\n<g id=\"node28\" class=\"node\">\n<title>27</title>\n<path fill=\"#e58139\" stroke=\"#000000\" d=\"M994,-179.5C994,-179.5 919,-179.5 919,-179.5 913,-179.5 907,-173.5 907,-167.5 907,-167.5 907,-123.5 907,-123.5 907,-117.5 913,-111.5 919,-111.5 919,-111.5 994,-111.5 994,-111.5 1000,-111.5 1006,-117.5 1006,-123.5 1006,-123.5 1006,-167.5 1006,-167.5 1006,-173.5 1000,-179.5 994,-179.5\"/>\n<text text-anchor=\"middle\" x=\"956.5\" y=\"-164.3\" font-family=\"Helvetica,sans-Serif\" font-size=\"14.00\" fill=\"#000000\">gini = 0.0</text>\n<text text-anchor=\"middle\" x=\"956.5\" y=\"-149.3\" font-family=\"Helvetica,sans-Serif\" font-size=\"14.00\" fill=\"#000000\">samples = 1</text>\n<text text-anchor=\"middle\" x=\"956.5\" y=\"-134.3\" font-family=\"Helvetica,sans-Serif\" font-size=\"14.00\" fill=\"#000000\">value = [1, 0]</text>\n<text text-anchor=\"middle\" x=\"956.5\" y=\"-119.3\" font-family=\"Helvetica,sans-Serif\" font-size=\"14.00\" fill=\"#000000\">class = Yes</text>\n</g>\n<!-- 25&#45;&gt;27 -->\n<g id=\"edge27\" class=\"edge\">\n<title>25&#45;&gt;27</title>\n<path fill=\"none\" stroke=\"#000000\" d=\"M918.1353,-222.8796C923.5872,-211.8835 929.4843,-199.9893 934.9816,-188.9015\"/>\n<polygon fill=\"#000000\" stroke=\"#000000\" points=\"938.1804,-190.3289 939.4867,-179.8149 931.9089,-187.2195 938.1804,-190.3289\"/>\n</g>\n<!-- 31 -->\n<g id=\"node32\" class=\"node\">\n<title>31</title>\n<path fill=\"#9ccef2\" stroke=\"#000000\" d=\"M1371,-425C1371,-425 1266,-425 1266,-425 1260,-425 1254,-419 1254,-413 1254,-413 1254,-354 1254,-354 1254,-348 1260,-342 1266,-342 1266,-342 1371,-342 1371,-342 1377,-342 1383,-348 1383,-354 1383,-354 1383,-413 1383,-413 1383,-419 1377,-425 1371,-425\"/>\n<text text-anchor=\"middle\" x=\"1318.5\" y=\"-409.8\" font-family=\"Helvetica,sans-Serif\" font-size=\"14.00\" fill=\"#000000\">SMOKING &lt;= 1.5</text>\n<text text-anchor=\"middle\" x=\"1318.5\" y=\"-394.8\" font-family=\"Helvetica,sans-Serif\" font-size=\"14.00\" fill=\"#000000\">gini = 0.444</text>\n<text text-anchor=\"middle\" x=\"1318.5\" y=\"-379.8\" font-family=\"Helvetica,sans-Serif\" font-size=\"14.00\" fill=\"#000000\">samples = 6</text>\n<text text-anchor=\"middle\" x=\"1318.5\" y=\"-364.8\" font-family=\"Helvetica,sans-Serif\" font-size=\"14.00\" fill=\"#000000\">value = [2, 4]</text>\n<text text-anchor=\"middle\" x=\"1318.5\" y=\"-349.8\" font-family=\"Helvetica,sans-Serif\" font-size=\"14.00\" fill=\"#000000\">class = No</text>\n</g>\n<!-- 30&#45;&gt;31 -->\n<g id=\"edge31\" class=\"edge\">\n<title>30&#45;&gt;31</title>\n<path fill=\"none\" stroke=\"#000000\" d=\"M1318.5,-460.8796C1318.5,-452.6838 1318.5,-443.9891 1318.5,-435.5013\"/>\n<polygon fill=\"#000000\" stroke=\"#000000\" points=\"1322.0001,-435.298 1318.5,-425.2981 1315.0001,-435.2981 1322.0001,-435.298\"/>\n</g>\n<!-- 36 -->\n<g id=\"node37\" class=\"node\">\n<title>36</title>\n<path fill=\"#47a4e7\" stroke=\"#000000\" d=\"M1496,-425C1496,-425 1413,-425 1413,-425 1407,-425 1401,-419 1401,-413 1401,-413 1401,-354 1401,-354 1401,-348 1407,-342 1413,-342 1413,-342 1496,-342 1496,-342 1502,-342 1508,-348 1508,-354 1508,-354 1508,-413 1508,-413 1508,-419 1502,-425 1496,-425\"/>\n<text text-anchor=\"middle\" x=\"1454.5\" y=\"-409.8\" font-family=\"Helvetica,sans-Serif\" font-size=\"14.00\" fill=\"#000000\">AGE &lt;= 68.5</text>\n<text text-anchor=\"middle\" x=\"1454.5\" y=\"-394.8\" font-family=\"Helvetica,sans-Serif\" font-size=\"14.00\" fill=\"#000000\">gini = 0.124</text>\n<text text-anchor=\"middle\" x=\"1454.5\" y=\"-379.8\" font-family=\"Helvetica,sans-Serif\" font-size=\"14.00\" fill=\"#000000\">samples = 15</text>\n<text text-anchor=\"middle\" x=\"1454.5\" y=\"-364.8\" font-family=\"Helvetica,sans-Serif\" font-size=\"14.00\" fill=\"#000000\">value = [1, 14]</text>\n<text text-anchor=\"middle\" x=\"1454.5\" y=\"-349.8\" font-family=\"Helvetica,sans-Serif\" font-size=\"14.00\" fill=\"#000000\">class = No</text>\n</g>\n<!-- 30&#45;&gt;36 -->\n<g id=\"edge36\" class=\"edge\">\n<title>30&#45;&gt;36</title>\n<path fill=\"none\" stroke=\"#000000\" d=\"M1366.0662,-460.8796C1376.6679,-451.6031 1388.0002,-441.6874 1398.8933,-432.1559\"/>\n<polygon fill=\"#000000\" stroke=\"#000000\" points=\"1401.5098,-434.5172 1406.7308,-425.2981 1396.9002,-429.2491 1401.5098,-434.5172\"/>\n</g>\n<!-- 32 -->\n<g id=\"node33\" class=\"node\">\n<title>32</title>\n<path fill=\"#f2c09c\" stroke=\"#000000\" d=\"M1243,-306C1243,-306 1128,-306 1128,-306 1122,-306 1116,-300 1116,-294 1116,-294 1116,-235 1116,-235 1116,-229 1122,-223 1128,-223 1128,-223 1243,-223 1243,-223 1249,-223 1255,-229 1255,-235 1255,-235 1255,-294 1255,-294 1255,-300 1249,-306 1243,-306\"/>\n<text text-anchor=\"middle\" x=\"1185.5\" y=\"-290.8\" font-family=\"Helvetica,sans-Serif\" font-size=\"14.00\" fill=\"#000000\">WHEEZING &lt;= 1.5</text>\n<text text-anchor=\"middle\" x=\"1185.5\" y=\"-275.8\" font-family=\"Helvetica,sans-Serif\" font-size=\"14.00\" fill=\"#000000\">gini = 0.444</text>\n<text text-anchor=\"middle\" x=\"1185.5\" y=\"-260.8\" font-family=\"Helvetica,sans-Serif\" font-size=\"14.00\" fill=\"#000000\">samples = 3</text>\n<text text-anchor=\"middle\" x=\"1185.5\" y=\"-245.8\" font-family=\"Helvetica,sans-Serif\" font-size=\"14.00\" fill=\"#000000\">value = [2, 1]</text>\n<text text-anchor=\"middle\" x=\"1185.5\" y=\"-230.8\" font-family=\"Helvetica,sans-Serif\" font-size=\"14.00\" fill=\"#000000\">class = Yes</text>\n</g>\n<!-- 31&#45;&gt;32 -->\n<g id=\"edge32\" class=\"edge\">\n<title>31&#45;&gt;32</title>\n<path fill=\"none\" stroke=\"#000000\" d=\"M1271.9831,-341.8796C1261.6152,-332.6031 1250.5329,-322.6874 1239.8801,-313.1559\"/>\n<polygon fill=\"#000000\" stroke=\"#000000\" points=\"1242.0017,-310.3577 1232.2155,-306.2981 1237.3341,-315.5744 1242.0017,-310.3577\"/>\n</g>\n<!-- 35 -->\n<g id=\"node36\" class=\"node\">\n<title>35</title>\n<path fill=\"#399de5\" stroke=\"#000000\" d=\"M1360,-298.5C1360,-298.5 1285,-298.5 1285,-298.5 1279,-298.5 1273,-292.5 1273,-286.5 1273,-286.5 1273,-242.5 1273,-242.5 1273,-236.5 1279,-230.5 1285,-230.5 1285,-230.5 1360,-230.5 1360,-230.5 1366,-230.5 1372,-236.5 1372,-242.5 1372,-242.5 1372,-286.5 1372,-286.5 1372,-292.5 1366,-298.5 1360,-298.5\"/>\n<text text-anchor=\"middle\" x=\"1322.5\" y=\"-283.3\" font-family=\"Helvetica,sans-Serif\" font-size=\"14.00\" fill=\"#000000\">gini = 0.0</text>\n<text text-anchor=\"middle\" x=\"1322.5\" y=\"-268.3\" font-family=\"Helvetica,sans-Serif\" font-size=\"14.00\" fill=\"#000000\">samples = 3</text>\n<text text-anchor=\"middle\" x=\"1322.5\" y=\"-253.3\" font-family=\"Helvetica,sans-Serif\" font-size=\"14.00\" fill=\"#000000\">value = [0, 3]</text>\n<text text-anchor=\"middle\" x=\"1322.5\" y=\"-238.3\" font-family=\"Helvetica,sans-Serif\" font-size=\"14.00\" fill=\"#000000\">class = No</text>\n</g>\n<!-- 31&#45;&gt;35 -->\n<g id=\"edge35\" class=\"edge\">\n<title>31&#45;&gt;35</title>\n<path fill=\"none\" stroke=\"#000000\" d=\"M1319.899,-341.8796C1320.2575,-331.2134 1320.6445,-319.7021 1321.0075,-308.9015\"/>\n<polygon fill=\"#000000\" stroke=\"#000000\" points=\"1324.5085,-308.9269 1321.3466,-298.8149 1317.5125,-308.6917 1324.5085,-308.9269\"/>\n</g>\n<!-- 33 -->\n<g id=\"node34\" class=\"node\">\n<title>33</title>\n<path fill=\"#399de5\" stroke=\"#000000\" d=\"M1190,-179.5C1190,-179.5 1115,-179.5 1115,-179.5 1109,-179.5 1103,-173.5 1103,-167.5 1103,-167.5 1103,-123.5 1103,-123.5 1103,-117.5 1109,-111.5 1115,-111.5 1115,-111.5 1190,-111.5 1190,-111.5 1196,-111.5 1202,-117.5 1202,-123.5 1202,-123.5 1202,-167.5 1202,-167.5 1202,-173.5 1196,-179.5 1190,-179.5\"/>\n<text text-anchor=\"middle\" x=\"1152.5\" y=\"-164.3\" font-family=\"Helvetica,sans-Serif\" font-size=\"14.00\" fill=\"#000000\">gini = 0.0</text>\n<text text-anchor=\"middle\" x=\"1152.5\" y=\"-149.3\" font-family=\"Helvetica,sans-Serif\" font-size=\"14.00\" fill=\"#000000\">samples = 1</text>\n<text text-anchor=\"middle\" x=\"1152.5\" y=\"-134.3\" font-family=\"Helvetica,sans-Serif\" font-size=\"14.00\" fill=\"#000000\">value = [0, 1]</text>\n<text text-anchor=\"middle\" x=\"1152.5\" y=\"-119.3\" font-family=\"Helvetica,sans-Serif\" font-size=\"14.00\" fill=\"#000000\">class = No</text>\n</g>\n<!-- 32&#45;&gt;33 -->\n<g id=\"edge33\" class=\"edge\">\n<title>32&#45;&gt;33</title>\n<path fill=\"none\" stroke=\"#000000\" d=\"M1173.9582,-222.8796C1170.9699,-212.1034 1167.7423,-200.4647 1164.7205,-189.5677\"/>\n<polygon fill=\"#000000\" stroke=\"#000000\" points=\"1168.061,-188.516 1162.0159,-179.8149 1161.3155,-190.3866 1168.061,-188.516\"/>\n</g>\n<!-- 34 -->\n<g id=\"node35\" class=\"node\">\n<title>34</title>\n<path fill=\"#e58139\" stroke=\"#000000\" d=\"M1307,-179.5C1307,-179.5 1232,-179.5 1232,-179.5 1226,-179.5 1220,-173.5 1220,-167.5 1220,-167.5 1220,-123.5 1220,-123.5 1220,-117.5 1226,-111.5 1232,-111.5 1232,-111.5 1307,-111.5 1307,-111.5 1313,-111.5 1319,-117.5 1319,-123.5 1319,-123.5 1319,-167.5 1319,-167.5 1319,-173.5 1313,-179.5 1307,-179.5\"/>\n<text text-anchor=\"middle\" x=\"1269.5\" y=\"-164.3\" font-family=\"Helvetica,sans-Serif\" font-size=\"14.00\" fill=\"#000000\">gini = 0.0</text>\n<text text-anchor=\"middle\" x=\"1269.5\" y=\"-149.3\" font-family=\"Helvetica,sans-Serif\" font-size=\"14.00\" fill=\"#000000\">samples = 2</text>\n<text text-anchor=\"middle\" x=\"1269.5\" y=\"-134.3\" font-family=\"Helvetica,sans-Serif\" font-size=\"14.00\" fill=\"#000000\">value = [2, 0]</text>\n<text text-anchor=\"middle\" x=\"1269.5\" y=\"-119.3\" font-family=\"Helvetica,sans-Serif\" font-size=\"14.00\" fill=\"#000000\">class = Yes</text>\n</g>\n<!-- 32&#45;&gt;34 -->\n<g id=\"edge34\" class=\"edge\">\n<title>32&#45;&gt;34</title>\n<path fill=\"none\" stroke=\"#000000\" d=\"M1214.8791,-222.8796C1222.7963,-211.6636 1231.3731,-199.5131 1239.3325,-188.2372\"/>\n<polygon fill=\"#000000\" stroke=\"#000000\" points=\"1242.3702,-190.003 1245.2777,-179.8149 1236.6514,-185.9662 1242.3702,-190.003\"/>\n</g>\n<!-- 37 -->\n<g id=\"node38\" class=\"node\">\n<title>37</title>\n<path fill=\"#399de5\" stroke=\"#000000\" d=\"M1489,-298.5C1489,-298.5 1406,-298.5 1406,-298.5 1400,-298.5 1394,-292.5 1394,-286.5 1394,-286.5 1394,-242.5 1394,-242.5 1394,-236.5 1400,-230.5 1406,-230.5 1406,-230.5 1489,-230.5 1489,-230.5 1495,-230.5 1501,-236.5 1501,-242.5 1501,-242.5 1501,-286.5 1501,-286.5 1501,-292.5 1495,-298.5 1489,-298.5\"/>\n<text text-anchor=\"middle\" x=\"1447.5\" y=\"-283.3\" font-family=\"Helvetica,sans-Serif\" font-size=\"14.00\" fill=\"#000000\">gini = 0.0</text>\n<text text-anchor=\"middle\" x=\"1447.5\" y=\"-268.3\" font-family=\"Helvetica,sans-Serif\" font-size=\"14.00\" fill=\"#000000\">samples = 12</text>\n<text text-anchor=\"middle\" x=\"1447.5\" y=\"-253.3\" font-family=\"Helvetica,sans-Serif\" font-size=\"14.00\" fill=\"#000000\">value = [0, 12]</text>\n<text text-anchor=\"middle\" x=\"1447.5\" y=\"-238.3\" font-family=\"Helvetica,sans-Serif\" font-size=\"14.00\" fill=\"#000000\">class = No</text>\n</g>\n<!-- 36&#45;&gt;37 -->\n<g id=\"edge37\" class=\"edge\">\n<title>36&#45;&gt;37</title>\n<path fill=\"none\" stroke=\"#000000\" d=\"M1452.0517,-341.8796C1451.4243,-331.2134 1450.7472,-319.7021 1450.1119,-308.9015\"/>\n<polygon fill=\"#000000\" stroke=\"#000000\" points=\"1453.5998,-308.5921 1449.5185,-298.8149 1446.6119,-309.0032 1453.5998,-308.5921\"/>\n</g>\n<!-- 38 -->\n<g id=\"node39\" class=\"node\">\n<title>38</title>\n<path fill=\"#9ccef2\" stroke=\"#000000\" d=\"M1696,-306C1696,-306 1531,-306 1531,-306 1525,-306 1519,-300 1519,-294 1519,-294 1519,-235 1519,-235 1519,-229 1525,-223 1531,-223 1531,-223 1696,-223 1696,-223 1702,-223 1708,-229 1708,-235 1708,-235 1708,-294 1708,-294 1708,-300 1702,-306 1696,-306\"/>\n<text text-anchor=\"middle\" x=\"1613.5\" y=\"-290.8\" font-family=\"Helvetica,sans-Serif\" font-size=\"14.00\" fill=\"#000000\">PEER_PRESSURE &lt;= 1.5</text>\n<text text-anchor=\"middle\" x=\"1613.5\" y=\"-275.8\" font-family=\"Helvetica,sans-Serif\" font-size=\"14.00\" fill=\"#000000\">gini = 0.444</text>\n<text text-anchor=\"middle\" x=\"1613.5\" y=\"-260.8\" font-family=\"Helvetica,sans-Serif\" font-size=\"14.00\" fill=\"#000000\">samples = 3</text>\n<text text-anchor=\"middle\" x=\"1613.5\" y=\"-245.8\" font-family=\"Helvetica,sans-Serif\" font-size=\"14.00\" fill=\"#000000\">value = [1, 2]</text>\n<text text-anchor=\"middle\" x=\"1613.5\" y=\"-230.8\" font-family=\"Helvetica,sans-Serif\" font-size=\"14.00\" fill=\"#000000\">class = No</text>\n</g>\n<!-- 36&#45;&gt;38 -->\n<g id=\"edge38\" class=\"edge\">\n<title>36&#45;&gt;38</title>\n<path fill=\"none\" stroke=\"#000000\" d=\"M1508.3301,-343.212C1521.6603,-333.2354 1536.069,-322.4515 1549.8197,-312.1601\"/>\n<polygon fill=\"#000000\" stroke=\"#000000\" points=\"1551.9178,-314.9615 1557.8267,-306.1674 1547.7235,-309.3573 1551.9178,-314.9615\"/>\n</g>\n<!-- 39 -->\n<g id=\"node40\" class=\"node\">\n<title>39</title>\n<path fill=\"#399de5\" stroke=\"#000000\" d=\"M1592,-179.5C1592,-179.5 1517,-179.5 1517,-179.5 1511,-179.5 1505,-173.5 1505,-167.5 1505,-167.5 1505,-123.5 1505,-123.5 1505,-117.5 1511,-111.5 1517,-111.5 1517,-111.5 1592,-111.5 1592,-111.5 1598,-111.5 1604,-117.5 1604,-123.5 1604,-123.5 1604,-167.5 1604,-167.5 1604,-173.5 1598,-179.5 1592,-179.5\"/>\n<text text-anchor=\"middle\" x=\"1554.5\" y=\"-164.3\" font-family=\"Helvetica,sans-Serif\" font-size=\"14.00\" fill=\"#000000\">gini = 0.0</text>\n<text text-anchor=\"middle\" x=\"1554.5\" y=\"-149.3\" font-family=\"Helvetica,sans-Serif\" font-size=\"14.00\" fill=\"#000000\">samples = 2</text>\n<text text-anchor=\"middle\" x=\"1554.5\" y=\"-134.3\" font-family=\"Helvetica,sans-Serif\" font-size=\"14.00\" fill=\"#000000\">value = [0, 2]</text>\n<text text-anchor=\"middle\" x=\"1554.5\" y=\"-119.3\" font-family=\"Helvetica,sans-Serif\" font-size=\"14.00\" fill=\"#000000\">class = No</text>\n</g>\n<!-- 38&#45;&gt;39 -->\n<g id=\"edge39\" class=\"edge\">\n<title>38&#45;&gt;39</title>\n<path fill=\"none\" stroke=\"#000000\" d=\"M1592.8647,-222.8796C1587.4128,-211.8835 1581.5157,-199.9893 1576.0184,-188.9015\"/>\n<polygon fill=\"#000000\" stroke=\"#000000\" points=\"1579.0911,-187.2195 1571.5133,-179.8149 1572.8196,-190.3289 1579.0911,-187.2195\"/>\n</g>\n<!-- 40 -->\n<g id=\"node41\" class=\"node\">\n<title>40</title>\n<path fill=\"#e58139\" stroke=\"#000000\" d=\"M1709,-179.5C1709,-179.5 1634,-179.5 1634,-179.5 1628,-179.5 1622,-173.5 1622,-167.5 1622,-167.5 1622,-123.5 1622,-123.5 1622,-117.5 1628,-111.5 1634,-111.5 1634,-111.5 1709,-111.5 1709,-111.5 1715,-111.5 1721,-117.5 1721,-123.5 1721,-123.5 1721,-167.5 1721,-167.5 1721,-173.5 1715,-179.5 1709,-179.5\"/>\n<text text-anchor=\"middle\" x=\"1671.5\" y=\"-164.3\" font-family=\"Helvetica,sans-Serif\" font-size=\"14.00\" fill=\"#000000\">gini = 0.0</text>\n<text text-anchor=\"middle\" x=\"1671.5\" y=\"-149.3\" font-family=\"Helvetica,sans-Serif\" font-size=\"14.00\" fill=\"#000000\">samples = 1</text>\n<text text-anchor=\"middle\" x=\"1671.5\" y=\"-134.3\" font-family=\"Helvetica,sans-Serif\" font-size=\"14.00\" fill=\"#000000\">value = [1, 0]</text>\n<text text-anchor=\"middle\" x=\"1671.5\" y=\"-119.3\" font-family=\"Helvetica,sans-Serif\" font-size=\"14.00\" fill=\"#000000\">class = Yes</text>\n</g>\n<!-- 38&#45;&gt;40 -->\n<g id=\"edge40\" class=\"edge\">\n<title>38&#45;&gt;40</title>\n<path fill=\"none\" stroke=\"#000000\" d=\"M1633.7856,-222.8796C1639.145,-211.8835 1644.9422,-199.9893 1650.3463,-188.9015\"/>\n<polygon fill=\"#000000\" stroke=\"#000000\" points=\"1653.54,-190.3375 1654.7751,-179.8149 1647.2476,-187.2706 1653.54,-190.3375\"/>\n</g>\n<!-- 42 -->\n<g id=\"node43\" class=\"node\">\n<title>42</title>\n<path fill=\"#6eb7ec\" stroke=\"#000000\" d=\"M1787.5,-663C1787.5,-663 1573.5,-663 1573.5,-663 1567.5,-663 1561.5,-657 1561.5,-651 1561.5,-651 1561.5,-592 1561.5,-592 1561.5,-586 1567.5,-580 1573.5,-580 1573.5,-580 1787.5,-580 1787.5,-580 1793.5,-580 1799.5,-586 1799.5,-592 1799.5,-592 1799.5,-651 1799.5,-651 1799.5,-657 1793.5,-663 1787.5,-663\"/>\n<text text-anchor=\"middle\" x=\"1680.5\" y=\"-647.8\" font-family=\"Helvetica,sans-Serif\" font-size=\"14.00\" fill=\"#000000\">SHORTNESS OF BREATH &lt;= 1.5</text>\n<text text-anchor=\"middle\" x=\"1680.5\" y=\"-632.8\" font-family=\"Helvetica,sans-Serif\" font-size=\"14.00\" fill=\"#000000\">gini = 0.332</text>\n<text text-anchor=\"middle\" x=\"1680.5\" y=\"-617.8\" font-family=\"Helvetica,sans-Serif\" font-size=\"14.00\" fill=\"#000000\">samples = 19</text>\n<text text-anchor=\"middle\" x=\"1680.5\" y=\"-602.8\" font-family=\"Helvetica,sans-Serif\" font-size=\"14.00\" fill=\"#000000\">value = [4, 15]</text>\n<text text-anchor=\"middle\" x=\"1680.5\" y=\"-587.8\" font-family=\"Helvetica,sans-Serif\" font-size=\"14.00\" fill=\"#000000\">class = No</text>\n</g>\n<!-- 41&#45;&gt;42 -->\n<g id=\"edge42\" class=\"edge\">\n<title>41&#45;&gt;42</title>\n<path fill=\"none\" stroke=\"#000000\" d=\"M1731.2194,-698.8796C1725.4932,-690.1434 1719.3954,-680.8404 1713.4863,-671.8253\"/>\n<polygon fill=\"#000000\" stroke=\"#000000\" points=\"1716.3063,-669.7429 1707.8971,-663.2981 1710.4518,-673.5803 1716.3063,-669.7429\"/>\n</g>\n<!-- 49 -->\n<g id=\"node50\" class=\"node\">\n<title>49</title>\n<path fill=\"#399de5\" stroke=\"#000000\" d=\"M1913,-655.5C1913,-655.5 1830,-655.5 1830,-655.5 1824,-655.5 1818,-649.5 1818,-643.5 1818,-643.5 1818,-599.5 1818,-599.5 1818,-593.5 1824,-587.5 1830,-587.5 1830,-587.5 1913,-587.5 1913,-587.5 1919,-587.5 1925,-593.5 1925,-599.5 1925,-599.5 1925,-643.5 1925,-643.5 1925,-649.5 1919,-655.5 1913,-655.5\"/>\n<text text-anchor=\"middle\" x=\"1871.5\" y=\"-640.3\" font-family=\"Helvetica,sans-Serif\" font-size=\"14.00\" fill=\"#000000\">gini = 0.0</text>\n<text text-anchor=\"middle\" x=\"1871.5\" y=\"-625.3\" font-family=\"Helvetica,sans-Serif\" font-size=\"14.00\" fill=\"#000000\">samples = 36</text>\n<text text-anchor=\"middle\" x=\"1871.5\" y=\"-610.3\" font-family=\"Helvetica,sans-Serif\" font-size=\"14.00\" fill=\"#000000\">value = [0, 36]</text>\n<text text-anchor=\"middle\" x=\"1871.5\" y=\"-595.3\" font-family=\"Helvetica,sans-Serif\" font-size=\"14.00\" fill=\"#000000\">class = No</text>\n</g>\n<!-- 41&#45;&gt;49 -->\n<g id=\"edge49\" class=\"edge\">\n<title>41&#45;&gt;49</title>\n<path fill=\"none\" stroke=\"#000000\" d=\"M1798.0219,-698.8796C1808.9857,-687.3337 1820.8897,-674.7976 1831.8601,-663.2446\"/>\n<polygon fill=\"#000000\" stroke=\"#000000\" points=\"1834.5673,-665.4766 1838.9152,-655.8149 1829.4913,-660.6564 1834.5673,-665.4766\"/>\n</g>\n<!-- 43 -->\n<g id=\"node44\" class=\"node\">\n<title>43</title>\n<path fill=\"#eeab7b\" stroke=\"#000000\" d=\"M1718,-544C1718,-544 1603,-544 1603,-544 1597,-544 1591,-538 1591,-532 1591,-532 1591,-473 1591,-473 1591,-467 1597,-461 1603,-461 1603,-461 1718,-461 1718,-461 1724,-461 1730,-467 1730,-473 1730,-473 1730,-532 1730,-532 1730,-538 1724,-544 1718,-544\"/>\n<text text-anchor=\"middle\" x=\"1660.5\" y=\"-528.8\" font-family=\"Helvetica,sans-Serif\" font-size=\"14.00\" fill=\"#000000\">WHEEZING &lt;= 1.5</text>\n<text text-anchor=\"middle\" x=\"1660.5\" y=\"-513.8\" font-family=\"Helvetica,sans-Serif\" font-size=\"14.00\" fill=\"#000000\">gini = 0.375</text>\n<text text-anchor=\"middle\" x=\"1660.5\" y=\"-498.8\" font-family=\"Helvetica,sans-Serif\" font-size=\"14.00\" fill=\"#000000\">samples = 4</text>\n<text text-anchor=\"middle\" x=\"1660.5\" y=\"-483.8\" font-family=\"Helvetica,sans-Serif\" font-size=\"14.00\" fill=\"#000000\">value = [3, 1]</text>\n<text text-anchor=\"middle\" x=\"1660.5\" y=\"-468.8\" font-family=\"Helvetica,sans-Serif\" font-size=\"14.00\" fill=\"#000000\">class = Yes</text>\n</g>\n<!-- 42&#45;&gt;43 -->\n<g id=\"edge43\" class=\"edge\">\n<title>42&#45;&gt;43</title>\n<path fill=\"none\" stroke=\"#000000\" d=\"M1673.505,-579.8796C1672.1124,-571.5938 1670.6341,-562.798 1669.1927,-554.2216\"/>\n<polygon fill=\"#000000\" stroke=\"#000000\" points=\"1672.634,-553.5796 1667.5249,-544.2981 1665.7308,-554.7399 1672.634,-553.5796\"/>\n</g>\n<!-- 46 -->\n<g id=\"node47\" class=\"node\">\n<title>46</title>\n<path fill=\"#47a4e7\" stroke=\"#000000\" d=\"M1859,-544C1859,-544 1760,-544 1760,-544 1754,-544 1748,-538 1748,-532 1748,-532 1748,-473 1748,-473 1748,-467 1754,-461 1760,-461 1760,-461 1859,-461 1859,-461 1865,-461 1871,-467 1871,-473 1871,-473 1871,-532 1871,-532 1871,-538 1865,-544 1859,-544\"/>\n<text text-anchor=\"middle\" x=\"1809.5\" y=\"-528.8\" font-family=\"Helvetica,sans-Serif\" font-size=\"14.00\" fill=\"#000000\">ANXIETY &lt;= 1.5</text>\n<text text-anchor=\"middle\" x=\"1809.5\" y=\"-513.8\" font-family=\"Helvetica,sans-Serif\" font-size=\"14.00\" fill=\"#000000\">gini = 0.124</text>\n<text text-anchor=\"middle\" x=\"1809.5\" y=\"-498.8\" font-family=\"Helvetica,sans-Serif\" font-size=\"14.00\" fill=\"#000000\">samples = 15</text>\n<text text-anchor=\"middle\" x=\"1809.5\" y=\"-483.8\" font-family=\"Helvetica,sans-Serif\" font-size=\"14.00\" fill=\"#000000\">value = [1, 14]</text>\n<text text-anchor=\"middle\" x=\"1809.5\" y=\"-468.8\" font-family=\"Helvetica,sans-Serif\" font-size=\"14.00\" fill=\"#000000\">class = No</text>\n</g>\n<!-- 42&#45;&gt;46 -->\n<g id=\"edge46\" class=\"edge\">\n<title>42&#45;&gt;46</title>\n<path fill=\"none\" stroke=\"#000000\" d=\"M1725.6179,-579.8796C1735.674,-570.6031 1746.423,-560.6874 1756.7554,-551.1559\"/>\n<polygon fill=\"#000000\" stroke=\"#000000\" points=\"1759.2124,-553.6511 1764.1895,-544.2981 1754.4661,-548.506 1759.2124,-553.6511\"/>\n</g>\n<!-- 44 -->\n<g id=\"node45\" class=\"node\">\n<title>44</title>\n<path fill=\"#e58139\" stroke=\"#000000\" d=\"M1613,-417.5C1613,-417.5 1538,-417.5 1538,-417.5 1532,-417.5 1526,-411.5 1526,-405.5 1526,-405.5 1526,-361.5 1526,-361.5 1526,-355.5 1532,-349.5 1538,-349.5 1538,-349.5 1613,-349.5 1613,-349.5 1619,-349.5 1625,-355.5 1625,-361.5 1625,-361.5 1625,-405.5 1625,-405.5 1625,-411.5 1619,-417.5 1613,-417.5\"/>\n<text text-anchor=\"middle\" x=\"1575.5\" y=\"-402.3\" font-family=\"Helvetica,sans-Serif\" font-size=\"14.00\" fill=\"#000000\">gini = 0.0</text>\n<text text-anchor=\"middle\" x=\"1575.5\" y=\"-387.3\" font-family=\"Helvetica,sans-Serif\" font-size=\"14.00\" fill=\"#000000\">samples = 3</text>\n<text text-anchor=\"middle\" x=\"1575.5\" y=\"-372.3\" font-family=\"Helvetica,sans-Serif\" font-size=\"14.00\" fill=\"#000000\">value = [3, 0]</text>\n<text text-anchor=\"middle\" x=\"1575.5\" y=\"-357.3\" font-family=\"Helvetica,sans-Serif\" font-size=\"14.00\" fill=\"#000000\">class = Yes</text>\n</g>\n<!-- 43&#45;&gt;44 -->\n<g id=\"edge44\" class=\"edge\">\n<title>43&#45;&gt;44</title>\n<path fill=\"none\" stroke=\"#000000\" d=\"M1630.7711,-460.8796C1622.7597,-449.6636 1614.0808,-437.5131 1606.0266,-426.2372\"/>\n<polygon fill=\"#000000\" stroke=\"#000000\" points=\"1608.6712,-423.9179 1600.0107,-417.8149 1602.975,-427.9866 1608.6712,-423.9179\"/>\n</g>\n<!-- 45 -->\n<g id=\"node46\" class=\"node\">\n<title>45</title>\n<path fill=\"#399de5\" stroke=\"#000000\" d=\"M1730,-417.5C1730,-417.5 1655,-417.5 1655,-417.5 1649,-417.5 1643,-411.5 1643,-405.5 1643,-405.5 1643,-361.5 1643,-361.5 1643,-355.5 1649,-349.5 1655,-349.5 1655,-349.5 1730,-349.5 1730,-349.5 1736,-349.5 1742,-355.5 1742,-361.5 1742,-361.5 1742,-405.5 1742,-405.5 1742,-411.5 1736,-417.5 1730,-417.5\"/>\n<text text-anchor=\"middle\" x=\"1692.5\" y=\"-402.3\" font-family=\"Helvetica,sans-Serif\" font-size=\"14.00\" fill=\"#000000\">gini = 0.0</text>\n<text text-anchor=\"middle\" x=\"1692.5\" y=\"-387.3\" font-family=\"Helvetica,sans-Serif\" font-size=\"14.00\" fill=\"#000000\">samples = 1</text>\n<text text-anchor=\"middle\" x=\"1692.5\" y=\"-372.3\" font-family=\"Helvetica,sans-Serif\" font-size=\"14.00\" fill=\"#000000\">value = [0, 1]</text>\n<text text-anchor=\"middle\" x=\"1692.5\" y=\"-357.3\" font-family=\"Helvetica,sans-Serif\" font-size=\"14.00\" fill=\"#000000\">class = No</text>\n</g>\n<!-- 43&#45;&gt;45 -->\n<g id=\"edge45\" class=\"edge\">\n<title>43&#45;&gt;45</title>\n<path fill=\"none\" stroke=\"#000000\" d=\"M1671.692,-460.8796C1674.5898,-450.1034 1677.7196,-438.4647 1680.6499,-427.5677\"/>\n<polygon fill=\"#000000\" stroke=\"#000000\" points=\"1684.0555,-428.3808 1683.2725,-417.8149 1677.2956,-426.563 1684.0555,-428.3808\"/>\n</g>\n<!-- 47 -->\n<g id=\"node48\" class=\"node\">\n<title>47</title>\n<path fill=\"#e58139\" stroke=\"#000000\" d=\"M1847,-417.5C1847,-417.5 1772,-417.5 1772,-417.5 1766,-417.5 1760,-411.5 1760,-405.5 1760,-405.5 1760,-361.5 1760,-361.5 1760,-355.5 1766,-349.5 1772,-349.5 1772,-349.5 1847,-349.5 1847,-349.5 1853,-349.5 1859,-355.5 1859,-361.5 1859,-361.5 1859,-405.5 1859,-405.5 1859,-411.5 1853,-417.5 1847,-417.5\"/>\n<text text-anchor=\"middle\" x=\"1809.5\" y=\"-402.3\" font-family=\"Helvetica,sans-Serif\" font-size=\"14.00\" fill=\"#000000\">gini = 0.0</text>\n<text text-anchor=\"middle\" x=\"1809.5\" y=\"-387.3\" font-family=\"Helvetica,sans-Serif\" font-size=\"14.00\" fill=\"#000000\">samples = 1</text>\n<text text-anchor=\"middle\" x=\"1809.5\" y=\"-372.3\" font-family=\"Helvetica,sans-Serif\" font-size=\"14.00\" fill=\"#000000\">value = [1, 0]</text>\n<text text-anchor=\"middle\" x=\"1809.5\" y=\"-357.3\" font-family=\"Helvetica,sans-Serif\" font-size=\"14.00\" fill=\"#000000\">class = Yes</text>\n</g>\n<!-- 46&#45;&gt;47 -->\n<g id=\"edge47\" class=\"edge\">\n<title>46&#45;&gt;47</title>\n<path fill=\"none\" stroke=\"#000000\" d=\"M1809.5,-460.8796C1809.5,-450.2134 1809.5,-438.7021 1809.5,-427.9015\"/>\n<polygon fill=\"#000000\" stroke=\"#000000\" points=\"1813.0001,-427.8149 1809.5,-417.8149 1806.0001,-427.815 1813.0001,-427.8149\"/>\n</g>\n<!-- 48 -->\n<g id=\"node49\" class=\"node\">\n<title>48</title>\n<path fill=\"#399de5\" stroke=\"#000000\" d=\"M1972,-417.5C1972,-417.5 1889,-417.5 1889,-417.5 1883,-417.5 1877,-411.5 1877,-405.5 1877,-405.5 1877,-361.5 1877,-361.5 1877,-355.5 1883,-349.5 1889,-349.5 1889,-349.5 1972,-349.5 1972,-349.5 1978,-349.5 1984,-355.5 1984,-361.5 1984,-361.5 1984,-405.5 1984,-405.5 1984,-411.5 1978,-417.5 1972,-417.5\"/>\n<text text-anchor=\"middle\" x=\"1930.5\" y=\"-402.3\" font-family=\"Helvetica,sans-Serif\" font-size=\"14.00\" fill=\"#000000\">gini = 0.0</text>\n<text text-anchor=\"middle\" x=\"1930.5\" y=\"-387.3\" font-family=\"Helvetica,sans-Serif\" font-size=\"14.00\" fill=\"#000000\">samples = 14</text>\n<text text-anchor=\"middle\" x=\"1930.5\" y=\"-372.3\" font-family=\"Helvetica,sans-Serif\" font-size=\"14.00\" fill=\"#000000\">value = [0, 14]</text>\n<text text-anchor=\"middle\" x=\"1930.5\" y=\"-357.3\" font-family=\"Helvetica,sans-Serif\" font-size=\"14.00\" fill=\"#000000\">class = No</text>\n</g>\n<!-- 46&#45;&gt;48 -->\n<g id=\"edge48\" class=\"edge\">\n<title>46&#45;&gt;48</title>\n<path fill=\"none\" stroke=\"#000000\" d=\"M1851.8199,-460.8796C1863.6717,-449.2237 1876.5495,-436.5587 1888.3891,-424.9148\"/>\n<polygon fill=\"#000000\" stroke=\"#000000\" points=\"1890.9327,-427.3223 1895.6083,-417.8149 1886.0244,-422.3314 1890.9327,-427.3223\"/>\n</g>\n<!-- 51 -->\n<g id=\"node52\" class=\"node\">\n<title>51</title>\n<path fill=\"#42a2e6\" stroke=\"#000000\" d=\"M2134.5,-782C2134.5,-782 1934.5,-782 1934.5,-782 1928.5,-782 1922.5,-776 1922.5,-770 1922.5,-770 1922.5,-711 1922.5,-711 1922.5,-705 1928.5,-699 1934.5,-699 1934.5,-699 2134.5,-699 2134.5,-699 2140.5,-699 2146.5,-705 2146.5,-711 2146.5,-711 2146.5,-770 2146.5,-770 2146.5,-776 2140.5,-782 2134.5,-782\"/>\n<text text-anchor=\"middle\" x=\"2034.5\" y=\"-766.8\" font-family=\"Helvetica,sans-Serif\" font-size=\"14.00\" fill=\"#000000\">ALCOHOL CONSUMING &lt;= 1.5</text>\n<text text-anchor=\"middle\" x=\"2034.5\" y=\"-751.8\" font-family=\"Helvetica,sans-Serif\" font-size=\"14.00\" fill=\"#000000\">gini = 0.087</text>\n<text text-anchor=\"middle\" x=\"2034.5\" y=\"-736.8\" font-family=\"Helvetica,sans-Serif\" font-size=\"14.00\" fill=\"#000000\">samples = 66</text>\n<text text-anchor=\"middle\" x=\"2034.5\" y=\"-721.8\" font-family=\"Helvetica,sans-Serif\" font-size=\"14.00\" fill=\"#000000\">value = [3, 63]</text>\n<text text-anchor=\"middle\" x=\"2034.5\" y=\"-706.8\" font-family=\"Helvetica,sans-Serif\" font-size=\"14.00\" fill=\"#000000\">class = No</text>\n</g>\n<!-- 50&#45;&gt;51 -->\n<g id=\"edge51\" class=\"edge\">\n<title>50&#45;&gt;51</title>\n<path fill=\"none\" stroke=\"#000000\" d=\"M2034.5,-817.8796C2034.5,-809.6838 2034.5,-800.9891 2034.5,-792.5013\"/>\n<polygon fill=\"#000000\" stroke=\"#000000\" points=\"2038.0001,-792.298 2034.5,-782.2981 2031.0001,-792.2981 2038.0001,-792.298\"/>\n</g>\n<!-- 66 -->\n<g id=\"node67\" class=\"node\">\n<title>66</title>\n<path fill=\"#399de5\" stroke=\"#000000\" d=\"M2260,-774.5C2260,-774.5 2177,-774.5 2177,-774.5 2171,-774.5 2165,-768.5 2165,-762.5 2165,-762.5 2165,-718.5 2165,-718.5 2165,-712.5 2171,-706.5 2177,-706.5 2177,-706.5 2260,-706.5 2260,-706.5 2266,-706.5 2272,-712.5 2272,-718.5 2272,-718.5 2272,-762.5 2272,-762.5 2272,-768.5 2266,-774.5 2260,-774.5\"/>\n<text text-anchor=\"middle\" x=\"2218.5\" y=\"-759.3\" font-family=\"Helvetica,sans-Serif\" font-size=\"14.00\" fill=\"#000000\">gini = 0.0</text>\n<text text-anchor=\"middle\" x=\"2218.5\" y=\"-744.3\" font-family=\"Helvetica,sans-Serif\" font-size=\"14.00\" fill=\"#000000\">samples = 66</text>\n<text text-anchor=\"middle\" x=\"2218.5\" y=\"-729.3\" font-family=\"Helvetica,sans-Serif\" font-size=\"14.00\" fill=\"#000000\">value = [0, 66]</text>\n<text text-anchor=\"middle\" x=\"2218.5\" y=\"-714.3\" font-family=\"Helvetica,sans-Serif\" font-size=\"14.00\" fill=\"#000000\">class = No</text>\n</g>\n<!-- 50&#45;&gt;66 -->\n<g id=\"edge66\" class=\"edge\">\n<title>50&#45;&gt;66</title>\n<path fill=\"none\" stroke=\"#000000\" d=\"M2099.9072,-817.8231C2117.9498,-806.2677 2137.5086,-793.6868 2155.5,-782 2156.4336,-781.3936 2157.3746,-780.7816 2158.3216,-780.1653\"/>\n<polygon fill=\"#000000\" stroke=\"#000000\" points=\"2160.5018,-782.9219 2166.9635,-774.5258 2156.6762,-777.0597 2160.5018,-782.9219\"/>\n</g>\n<!-- 52 -->\n<g id=\"node53\" class=\"node\">\n<title>52</title>\n<path fill=\"#61b1ea\" stroke=\"#000000\" d=\"M2072.5,-663C2072.5,-663 1996.5,-663 1996.5,-663 1990.5,-663 1984.5,-657 1984.5,-651 1984.5,-651 1984.5,-592 1984.5,-592 1984.5,-586 1990.5,-580 1996.5,-580 1996.5,-580 2072.5,-580 2072.5,-580 2078.5,-580 2084.5,-586 2084.5,-592 2084.5,-592 2084.5,-651 2084.5,-651 2084.5,-657 2078.5,-663 2072.5,-663\"/>\n<text text-anchor=\"middle\" x=\"2034.5\" y=\"-647.8\" font-family=\"Helvetica,sans-Serif\" font-size=\"14.00\" fill=\"#000000\">AGE &lt;= 59.5</text>\n<text text-anchor=\"middle\" x=\"2034.5\" y=\"-632.8\" font-family=\"Helvetica,sans-Serif\" font-size=\"14.00\" fill=\"#000000\">gini = 0.278</text>\n<text text-anchor=\"middle\" x=\"2034.5\" y=\"-617.8\" font-family=\"Helvetica,sans-Serif\" font-size=\"14.00\" fill=\"#000000\">samples = 6</text>\n<text text-anchor=\"middle\" x=\"2034.5\" y=\"-602.8\" font-family=\"Helvetica,sans-Serif\" font-size=\"14.00\" fill=\"#000000\">value = [1, 5]</text>\n<text text-anchor=\"middle\" x=\"2034.5\" y=\"-587.8\" font-family=\"Helvetica,sans-Serif\" font-size=\"14.00\" fill=\"#000000\">class = No</text>\n</g>\n<!-- 51&#45;&gt;52 -->\n<g id=\"edge52\" class=\"edge\">\n<title>51&#45;&gt;52</title>\n<path fill=\"none\" stroke=\"#000000\" d=\"M2034.5,-698.8796C2034.5,-690.6838 2034.5,-681.9891 2034.5,-673.5013\"/>\n<polygon fill=\"#000000\" stroke=\"#000000\" points=\"2038.0001,-673.298 2034.5,-663.2981 2031.0001,-673.2981 2038.0001,-673.298\"/>\n</g>\n<!-- 55 -->\n<g id=\"node56\" class=\"node\">\n<title>55</title>\n<path fill=\"#40a0e6\" stroke=\"#000000\" d=\"M2271.5,-663C2271.5,-663 2169.5,-663 2169.5,-663 2163.5,-663 2157.5,-657 2157.5,-651 2157.5,-651 2157.5,-592 2157.5,-592 2157.5,-586 2163.5,-580 2169.5,-580 2169.5,-580 2271.5,-580 2271.5,-580 2277.5,-580 2283.5,-586 2283.5,-592 2283.5,-592 2283.5,-651 2283.5,-651 2283.5,-657 2277.5,-663 2271.5,-663\"/>\n<text text-anchor=\"middle\" x=\"2220.5\" y=\"-647.8\" font-family=\"Helvetica,sans-Serif\" font-size=\"14.00\" fill=\"#000000\">FATIGUE &#160;&lt;= 1.5</text>\n<text text-anchor=\"middle\" x=\"2220.5\" y=\"-632.8\" font-family=\"Helvetica,sans-Serif\" font-size=\"14.00\" fill=\"#000000\">gini = 0.064</text>\n<text text-anchor=\"middle\" x=\"2220.5\" y=\"-617.8\" font-family=\"Helvetica,sans-Serif\" font-size=\"14.00\" fill=\"#000000\">samples = 60</text>\n<text text-anchor=\"middle\" x=\"2220.5\" y=\"-602.8\" font-family=\"Helvetica,sans-Serif\" font-size=\"14.00\" fill=\"#000000\">value = [2, 58]</text>\n<text text-anchor=\"middle\" x=\"2220.5\" y=\"-587.8\" font-family=\"Helvetica,sans-Serif\" font-size=\"14.00\" fill=\"#000000\">class = No</text>\n</g>\n<!-- 51&#45;&gt;55 -->\n<g id=\"edge55\" class=\"edge\">\n<title>51&#45;&gt;55</title>\n<path fill=\"none\" stroke=\"#000000\" d=\"M2099.5538,-698.8796C2115.3758,-688.7569 2132.3875,-677.8731 2148.5102,-667.558\"/>\n<polygon fill=\"#000000\" stroke=\"#000000\" points=\"2150.8253,-670.2319 2157.3626,-661.8943 2147.0528,-664.3354 2150.8253,-670.2319\"/>\n</g>\n<!-- 53 -->\n<g id=\"node54\" class=\"node\">\n<title>53</title>\n<path fill=\"#e58139\" stroke=\"#000000\" d=\"M1976,-536.5C1976,-536.5 1901,-536.5 1901,-536.5 1895,-536.5 1889,-530.5 1889,-524.5 1889,-524.5 1889,-480.5 1889,-480.5 1889,-474.5 1895,-468.5 1901,-468.5 1901,-468.5 1976,-468.5 1976,-468.5 1982,-468.5 1988,-474.5 1988,-480.5 1988,-480.5 1988,-524.5 1988,-524.5 1988,-530.5 1982,-536.5 1976,-536.5\"/>\n<text text-anchor=\"middle\" x=\"1938.5\" y=\"-521.3\" font-family=\"Helvetica,sans-Serif\" font-size=\"14.00\" fill=\"#000000\">gini = 0.0</text>\n<text text-anchor=\"middle\" x=\"1938.5\" y=\"-506.3\" font-family=\"Helvetica,sans-Serif\" font-size=\"14.00\" fill=\"#000000\">samples = 1</text>\n<text text-anchor=\"middle\" x=\"1938.5\" y=\"-491.3\" font-family=\"Helvetica,sans-Serif\" font-size=\"14.00\" fill=\"#000000\">value = [1, 0]</text>\n<text text-anchor=\"middle\" x=\"1938.5\" y=\"-476.3\" font-family=\"Helvetica,sans-Serif\" font-size=\"14.00\" fill=\"#000000\">class = Yes</text>\n</g>\n<!-- 52&#45;&gt;53 -->\n<g id=\"edge53\" class=\"edge\">\n<title>52&#45;&gt;53</title>\n<path fill=\"none\" stroke=\"#000000\" d=\"M2000.9239,-579.8796C1991.7869,-568.5536 1981.8813,-556.2748 1972.7098,-544.9058\"/>\n<polygon fill=\"#000000\" stroke=\"#000000\" points=\"1975.1856,-542.4005 1966.1826,-536.8149 1969.7374,-546.7957 1975.1856,-542.4005\"/>\n</g>\n<!-- 54 -->\n<g id=\"node55\" class=\"node\">\n<title>54</title>\n<path fill=\"#399de5\" stroke=\"#000000\" d=\"M2093,-536.5C2093,-536.5 2018,-536.5 2018,-536.5 2012,-536.5 2006,-530.5 2006,-524.5 2006,-524.5 2006,-480.5 2006,-480.5 2006,-474.5 2012,-468.5 2018,-468.5 2018,-468.5 2093,-468.5 2093,-468.5 2099,-468.5 2105,-474.5 2105,-480.5 2105,-480.5 2105,-524.5 2105,-524.5 2105,-530.5 2099,-536.5 2093,-536.5\"/>\n<text text-anchor=\"middle\" x=\"2055.5\" y=\"-521.3\" font-family=\"Helvetica,sans-Serif\" font-size=\"14.00\" fill=\"#000000\">gini = 0.0</text>\n<text text-anchor=\"middle\" x=\"2055.5\" y=\"-506.3\" font-family=\"Helvetica,sans-Serif\" font-size=\"14.00\" fill=\"#000000\">samples = 5</text>\n<text text-anchor=\"middle\" x=\"2055.5\" y=\"-491.3\" font-family=\"Helvetica,sans-Serif\" font-size=\"14.00\" fill=\"#000000\">value = [0, 5]</text>\n<text text-anchor=\"middle\" x=\"2055.5\" y=\"-476.3\" font-family=\"Helvetica,sans-Serif\" font-size=\"14.00\" fill=\"#000000\">class = No</text>\n</g>\n<!-- 52&#45;&gt;54 -->\n<g id=\"edge54\" class=\"edge\">\n<title>52&#45;&gt;54</title>\n<path fill=\"none\" stroke=\"#000000\" d=\"M2041.8448,-579.8796C2043.7271,-569.2134 2045.7585,-557.7021 2047.6644,-546.9015\"/>\n<polygon fill=\"#000000\" stroke=\"#000000\" points=\"2051.1532,-547.2711 2049.4444,-536.8149 2044.2597,-546.0545 2051.1532,-547.2711\"/>\n</g>\n<!-- 56 -->\n<g id=\"node57\" class=\"node\">\n<title>56</title>\n<path fill=\"#52a9e8\" stroke=\"#000000\" d=\"M2306,-544C2306,-544 2135,-544 2135,-544 2129,-544 2123,-538 2123,-532 2123,-532 2123,-473 2123,-473 2123,-467 2129,-461 2135,-461 2135,-461 2306,-461 2306,-461 2312,-461 2318,-467 2318,-473 2318,-473 2318,-532 2318,-532 2318,-538 2312,-544 2306,-544\"/>\n<text text-anchor=\"middle\" x=\"2220.5\" y=\"-528.8\" font-family=\"Helvetica,sans-Serif\" font-size=\"14.00\" fill=\"#000000\">CHRONIC DISEASE &lt;= 1.5</text>\n<text text-anchor=\"middle\" x=\"2220.5\" y=\"-513.8\" font-family=\"Helvetica,sans-Serif\" font-size=\"14.00\" fill=\"#000000\">gini = 0.198</text>\n<text text-anchor=\"middle\" x=\"2220.5\" y=\"-498.8\" font-family=\"Helvetica,sans-Serif\" font-size=\"14.00\" fill=\"#000000\">samples = 18</text>\n<text text-anchor=\"middle\" x=\"2220.5\" y=\"-483.8\" font-family=\"Helvetica,sans-Serif\" font-size=\"14.00\" fill=\"#000000\">value = [2, 16]</text>\n<text text-anchor=\"middle\" x=\"2220.5\" y=\"-468.8\" font-family=\"Helvetica,sans-Serif\" font-size=\"14.00\" fill=\"#000000\">class = No</text>\n</g>\n<!-- 55&#45;&gt;56 -->\n<g id=\"edge56\" class=\"edge\">\n<title>55&#45;&gt;56</title>\n<path fill=\"none\" stroke=\"#000000\" d=\"M2220.5,-579.8796C2220.5,-571.6838 2220.5,-562.9891 2220.5,-554.5013\"/>\n<polygon fill=\"#000000\" stroke=\"#000000\" points=\"2224.0001,-554.298 2220.5,-544.2981 2217.0001,-554.2981 2224.0001,-554.298\"/>\n</g>\n<!-- 65 -->\n<g id=\"node66\" class=\"node\">\n<title>65</title>\n<path fill=\"#399de5\" stroke=\"#000000\" d=\"M2431,-536.5C2431,-536.5 2348,-536.5 2348,-536.5 2342,-536.5 2336,-530.5 2336,-524.5 2336,-524.5 2336,-480.5 2336,-480.5 2336,-474.5 2342,-468.5 2348,-468.5 2348,-468.5 2431,-468.5 2431,-468.5 2437,-468.5 2443,-474.5 2443,-480.5 2443,-480.5 2443,-524.5 2443,-524.5 2443,-530.5 2437,-536.5 2431,-536.5\"/>\n<text text-anchor=\"middle\" x=\"2389.5\" y=\"-521.3\" font-family=\"Helvetica,sans-Serif\" font-size=\"14.00\" fill=\"#000000\">gini = 0.0</text>\n<text text-anchor=\"middle\" x=\"2389.5\" y=\"-506.3\" font-family=\"Helvetica,sans-Serif\" font-size=\"14.00\" fill=\"#000000\">samples = 42</text>\n<text text-anchor=\"middle\" x=\"2389.5\" y=\"-491.3\" font-family=\"Helvetica,sans-Serif\" font-size=\"14.00\" fill=\"#000000\">value = [0, 42]</text>\n<text text-anchor=\"middle\" x=\"2389.5\" y=\"-476.3\" font-family=\"Helvetica,sans-Serif\" font-size=\"14.00\" fill=\"#000000\">class = No</text>\n</g>\n<!-- 55&#45;&gt;65 -->\n<g id=\"edge65\" class=\"edge\">\n<title>55&#45;&gt;65</title>\n<path fill=\"none\" stroke=\"#000000\" d=\"M2279.608,-579.8796C2296.8677,-567.7263 2315.6856,-554.4759 2332.793,-542.4297\"/>\n<polygon fill=\"#000000\" stroke=\"#000000\" points=\"2334.8782,-545.2421 2341.0396,-536.623 2330.8481,-539.5187 2334.8782,-545.2421\"/>\n</g>\n<!-- 57 -->\n<g id=\"node58\" class=\"node\">\n<title>57</title>\n<path fill=\"#6ab6ec\" stroke=\"#000000\" d=\"M2200.5,-425C2200.5,-425 2120.5,-425 2120.5,-425 2114.5,-425 2108.5,-419 2108.5,-413 2108.5,-413 2108.5,-354 2108.5,-354 2108.5,-348 2114.5,-342 2120.5,-342 2120.5,-342 2200.5,-342 2200.5,-342 2206.5,-342 2212.5,-348 2212.5,-354 2212.5,-354 2212.5,-413 2212.5,-413 2212.5,-419 2206.5,-425 2200.5,-425\"/>\n<text text-anchor=\"middle\" x=\"2160.5\" y=\"-409.8\" font-family=\"Helvetica,sans-Serif\" font-size=\"14.00\" fill=\"#000000\">AGE &lt;= 63.0</text>\n<text text-anchor=\"middle\" x=\"2160.5\" y=\"-394.8\" font-family=\"Helvetica,sans-Serif\" font-size=\"14.00\" fill=\"#000000\">gini = 0.32</text>\n<text text-anchor=\"middle\" x=\"2160.5\" y=\"-379.8\" font-family=\"Helvetica,sans-Serif\" font-size=\"14.00\" fill=\"#000000\">samples = 10</text>\n<text text-anchor=\"middle\" x=\"2160.5\" y=\"-364.8\" font-family=\"Helvetica,sans-Serif\" font-size=\"14.00\" fill=\"#000000\">value = [2, 8]</text>\n<text text-anchor=\"middle\" x=\"2160.5\" y=\"-349.8\" font-family=\"Helvetica,sans-Serif\" font-size=\"14.00\" fill=\"#000000\">class = No</text>\n</g>\n<!-- 56&#45;&gt;57 -->\n<g id=\"edge57\" class=\"edge\">\n<title>56&#45;&gt;57</title>\n<path fill=\"none\" stroke=\"#000000\" d=\"M2199.5149,-460.8796C2195.201,-452.3236 2190.6128,-443.2238 2186.1554,-434.3833\"/>\n<polygon fill=\"#000000\" stroke=\"#000000\" points=\"2189.2021,-432.6515 2181.5747,-425.2981 2182.9516,-435.8031 2189.2021,-432.6515\"/>\n</g>\n<!-- 64 -->\n<g id=\"node65\" class=\"node\">\n<title>64</title>\n<path fill=\"#399de5\" stroke=\"#000000\" d=\"M2318,-417.5C2318,-417.5 2243,-417.5 2243,-417.5 2237,-417.5 2231,-411.5 2231,-405.5 2231,-405.5 2231,-361.5 2231,-361.5 2231,-355.5 2237,-349.5 2243,-349.5 2243,-349.5 2318,-349.5 2318,-349.5 2324,-349.5 2330,-355.5 2330,-361.5 2330,-361.5 2330,-405.5 2330,-405.5 2330,-411.5 2324,-417.5 2318,-417.5\"/>\n<text text-anchor=\"middle\" x=\"2280.5\" y=\"-402.3\" font-family=\"Helvetica,sans-Serif\" font-size=\"14.00\" fill=\"#000000\">gini = 0.0</text>\n<text text-anchor=\"middle\" x=\"2280.5\" y=\"-387.3\" font-family=\"Helvetica,sans-Serif\" font-size=\"14.00\" fill=\"#000000\">samples = 8</text>\n<text text-anchor=\"middle\" x=\"2280.5\" y=\"-372.3\" font-family=\"Helvetica,sans-Serif\" font-size=\"14.00\" fill=\"#000000\">value = [0, 8]</text>\n<text text-anchor=\"middle\" x=\"2280.5\" y=\"-357.3\" font-family=\"Helvetica,sans-Serif\" font-size=\"14.00\" fill=\"#000000\">class = No</text>\n</g>\n<!-- 56&#45;&gt;64 -->\n<g id=\"edge64\" class=\"edge\">\n<title>56&#45;&gt;64</title>\n<path fill=\"none\" stroke=\"#000000\" d=\"M2241.4851,-460.8796C2247.0293,-449.8835 2253.0264,-437.9893 2258.6169,-426.9015\"/>\n<polygon fill=\"#000000\" stroke=\"#000000\" points=\"2261.8214,-428.3199 2263.1984,-417.8149 2255.5709,-425.1684 2261.8214,-428.3199\"/>\n</g>\n<!-- 58 -->\n<g id=\"node59\" class=\"node\">\n<title>58</title>\n<path fill=\"#399de5\" stroke=\"#000000\" d=\"M2139,-298.5C2139,-298.5 2064,-298.5 2064,-298.5 2058,-298.5 2052,-292.5 2052,-286.5 2052,-286.5 2052,-242.5 2052,-242.5 2052,-236.5 2058,-230.5 2064,-230.5 2064,-230.5 2139,-230.5 2139,-230.5 2145,-230.5 2151,-236.5 2151,-242.5 2151,-242.5 2151,-286.5 2151,-286.5 2151,-292.5 2145,-298.5 2139,-298.5\"/>\n<text text-anchor=\"middle\" x=\"2101.5\" y=\"-283.3\" font-family=\"Helvetica,sans-Serif\" font-size=\"14.00\" fill=\"#000000\">gini = 0.0</text>\n<text text-anchor=\"middle\" x=\"2101.5\" y=\"-268.3\" font-family=\"Helvetica,sans-Serif\" font-size=\"14.00\" fill=\"#000000\">samples = 5</text>\n<text text-anchor=\"middle\" x=\"2101.5\" y=\"-253.3\" font-family=\"Helvetica,sans-Serif\" font-size=\"14.00\" fill=\"#000000\">value = [0, 5]</text>\n<text text-anchor=\"middle\" x=\"2101.5\" y=\"-238.3\" font-family=\"Helvetica,sans-Serif\" font-size=\"14.00\" fill=\"#000000\">class = No</text>\n</g>\n<!-- 57&#45;&gt;58 -->\n<g id=\"edge58\" class=\"edge\">\n<title>57&#45;&gt;58</title>\n<path fill=\"none\" stroke=\"#000000\" d=\"M2139.8647,-341.8796C2134.4128,-330.8835 2128.5157,-318.9893 2123.0184,-307.9015\"/>\n<polygon fill=\"#000000\" stroke=\"#000000\" points=\"2126.0911,-306.2195 2118.5133,-298.8149 2119.8196,-309.3289 2126.0911,-306.2195\"/>\n</g>\n<!-- 59 -->\n<g id=\"node60\" class=\"node\">\n<title>59</title>\n<path fill=\"#bddef6\" stroke=\"#000000\" d=\"M2257.5,-306C2257.5,-306 2181.5,-306 2181.5,-306 2175.5,-306 2169.5,-300 2169.5,-294 2169.5,-294 2169.5,-235 2169.5,-235 2169.5,-229 2175.5,-223 2181.5,-223 2181.5,-223 2257.5,-223 2257.5,-223 2263.5,-223 2269.5,-229 2269.5,-235 2269.5,-235 2269.5,-294 2269.5,-294 2269.5,-300 2263.5,-306 2257.5,-306\"/>\n<text text-anchor=\"middle\" x=\"2219.5\" y=\"-290.8\" font-family=\"Helvetica,sans-Serif\" font-size=\"14.00\" fill=\"#000000\">AGE &lt;= 69.5</text>\n<text text-anchor=\"middle\" x=\"2219.5\" y=\"-275.8\" font-family=\"Helvetica,sans-Serif\" font-size=\"14.00\" fill=\"#000000\">gini = 0.48</text>\n<text text-anchor=\"middle\" x=\"2219.5\" y=\"-260.8\" font-family=\"Helvetica,sans-Serif\" font-size=\"14.00\" fill=\"#000000\">samples = 5</text>\n<text text-anchor=\"middle\" x=\"2219.5\" y=\"-245.8\" font-family=\"Helvetica,sans-Serif\" font-size=\"14.00\" fill=\"#000000\">value = [2, 3]</text>\n<text text-anchor=\"middle\" x=\"2219.5\" y=\"-230.8\" font-family=\"Helvetica,sans-Serif\" font-size=\"14.00\" fill=\"#000000\">class = No</text>\n</g>\n<!-- 57&#45;&gt;59 -->\n<g id=\"edge59\" class=\"edge\">\n<title>57&#45;&gt;59</title>\n<path fill=\"none\" stroke=\"#000000\" d=\"M2181.1353,-341.8796C2185.3774,-333.3236 2189.889,-324.2238 2194.2721,-315.3833\"/>\n<polygon fill=\"#000000\" stroke=\"#000000\" points=\"2197.4703,-316.8121 2198.7766,-306.2981 2191.1988,-313.7026 2197.4703,-316.8121\"/>\n</g>\n<!-- 60 -->\n<g id=\"node61\" class=\"node\">\n<title>60</title>\n<path fill=\"#f2c09c\" stroke=\"#000000\" d=\"M2198.5,-187C2198.5,-187 2122.5,-187 2122.5,-187 2116.5,-187 2110.5,-181 2110.5,-175 2110.5,-175 2110.5,-116 2110.5,-116 2110.5,-110 2116.5,-104 2122.5,-104 2122.5,-104 2198.5,-104 2198.5,-104 2204.5,-104 2210.5,-110 2210.5,-116 2210.5,-116 2210.5,-175 2210.5,-175 2210.5,-181 2204.5,-187 2198.5,-187\"/>\n<text text-anchor=\"middle\" x=\"2160.5\" y=\"-171.8\" font-family=\"Helvetica,sans-Serif\" font-size=\"14.00\" fill=\"#000000\">AGE &lt;= 66.5</text>\n<text text-anchor=\"middle\" x=\"2160.5\" y=\"-156.8\" font-family=\"Helvetica,sans-Serif\" font-size=\"14.00\" fill=\"#000000\">gini = 0.444</text>\n<text text-anchor=\"middle\" x=\"2160.5\" y=\"-141.8\" font-family=\"Helvetica,sans-Serif\" font-size=\"14.00\" fill=\"#000000\">samples = 3</text>\n<text text-anchor=\"middle\" x=\"2160.5\" y=\"-126.8\" font-family=\"Helvetica,sans-Serif\" font-size=\"14.00\" fill=\"#000000\">value = [2, 1]</text>\n<text text-anchor=\"middle\" x=\"2160.5\" y=\"-111.8\" font-family=\"Helvetica,sans-Serif\" font-size=\"14.00\" fill=\"#000000\">class = Yes</text>\n</g>\n<!-- 59&#45;&gt;60 -->\n<g id=\"edge60\" class=\"edge\">\n<title>59&#45;&gt;60</title>\n<path fill=\"none\" stroke=\"#000000\" d=\"M2198.8647,-222.8796C2194.6226,-214.3236 2190.111,-205.2238 2185.7279,-196.3833\"/>\n<polygon fill=\"#000000\" stroke=\"#000000\" points=\"2188.8012,-194.7026 2181.2234,-187.2981 2182.5297,-197.8121 2188.8012,-194.7026\"/>\n</g>\n<!-- 63 -->\n<g id=\"node64\" class=\"node\">\n<title>63</title>\n<path fill=\"#399de5\" stroke=\"#000000\" d=\"M2316,-179.5C2316,-179.5 2241,-179.5 2241,-179.5 2235,-179.5 2229,-173.5 2229,-167.5 2229,-167.5 2229,-123.5 2229,-123.5 2229,-117.5 2235,-111.5 2241,-111.5 2241,-111.5 2316,-111.5 2316,-111.5 2322,-111.5 2328,-117.5 2328,-123.5 2328,-123.5 2328,-167.5 2328,-167.5 2328,-173.5 2322,-179.5 2316,-179.5\"/>\n<text text-anchor=\"middle\" x=\"2278.5\" y=\"-164.3\" font-family=\"Helvetica,sans-Serif\" font-size=\"14.00\" fill=\"#000000\">gini = 0.0</text>\n<text text-anchor=\"middle\" x=\"2278.5\" y=\"-149.3\" font-family=\"Helvetica,sans-Serif\" font-size=\"14.00\" fill=\"#000000\">samples = 2</text>\n<text text-anchor=\"middle\" x=\"2278.5\" y=\"-134.3\" font-family=\"Helvetica,sans-Serif\" font-size=\"14.00\" fill=\"#000000\">value = [0, 2]</text>\n<text text-anchor=\"middle\" x=\"2278.5\" y=\"-119.3\" font-family=\"Helvetica,sans-Serif\" font-size=\"14.00\" fill=\"#000000\">class = No</text>\n</g>\n<!-- 59&#45;&gt;63 -->\n<g id=\"edge63\" class=\"edge\">\n<title>59&#45;&gt;63</title>\n<path fill=\"none\" stroke=\"#000000\" d=\"M2240.1353,-222.8796C2245.5872,-211.8835 2251.4843,-199.9893 2256.9816,-188.9015\"/>\n<polygon fill=\"#000000\" stroke=\"#000000\" points=\"2260.1804,-190.3289 2261.4867,-179.8149 2253.9089,-187.2195 2260.1804,-190.3289\"/>\n</g>\n<!-- 61 -->\n<g id=\"node62\" class=\"node\">\n<title>61</title>\n<path fill=\"#ffffff\" stroke=\"#000000\" d=\"M2139,-68C2139,-68 2064,-68 2064,-68 2058,-68 2052,-62 2052,-56 2052,-56 2052,-12 2052,-12 2052,-6 2058,0 2064,0 2064,0 2139,0 2139,0 2145,0 2151,-6 2151,-12 2151,-12 2151,-56 2151,-56 2151,-62 2145,-68 2139,-68\"/>\n<text text-anchor=\"middle\" x=\"2101.5\" y=\"-52.8\" font-family=\"Helvetica,sans-Serif\" font-size=\"14.00\" fill=\"#000000\">gini = 0.5</text>\n<text text-anchor=\"middle\" x=\"2101.5\" y=\"-37.8\" font-family=\"Helvetica,sans-Serif\" font-size=\"14.00\" fill=\"#000000\">samples = 2</text>\n<text text-anchor=\"middle\" x=\"2101.5\" y=\"-22.8\" font-family=\"Helvetica,sans-Serif\" font-size=\"14.00\" fill=\"#000000\">value = [1, 1]</text>\n<text text-anchor=\"middle\" x=\"2101.5\" y=\"-7.8\" font-family=\"Helvetica,sans-Serif\" font-size=\"14.00\" fill=\"#000000\">class = Yes</text>\n</g>\n<!-- 60&#45;&gt;61 -->\n<g id=\"edge61\" class=\"edge\">\n<title>60&#45;&gt;61</title>\n<path fill=\"none\" stroke=\"#000000\" d=\"M2138.5306,-103.9815C2133.9105,-95.2504 2129.0264,-86.0202 2124.374,-77.2281\"/>\n<polygon fill=\"#000000\" stroke=\"#000000\" points=\"2127.4013,-75.4655 2119.6306,-68.2637 2121.2141,-78.7395 2127.4013,-75.4655\"/>\n</g>\n<!-- 62 -->\n<g id=\"node63\" class=\"node\">\n<title>62</title>\n<path fill=\"#e58139\" stroke=\"#000000\" d=\"M2256,-68C2256,-68 2181,-68 2181,-68 2175,-68 2169,-62 2169,-56 2169,-56 2169,-12 2169,-12 2169,-6 2175,0 2181,0 2181,0 2256,0 2256,0 2262,0 2268,-6 2268,-12 2268,-12 2268,-56 2268,-56 2268,-62 2262,-68 2256,-68\"/>\n<text text-anchor=\"middle\" x=\"2218.5\" y=\"-52.8\" font-family=\"Helvetica,sans-Serif\" font-size=\"14.00\" fill=\"#000000\">gini = 0.0</text>\n<text text-anchor=\"middle\" x=\"2218.5\" y=\"-37.8\" font-family=\"Helvetica,sans-Serif\" font-size=\"14.00\" fill=\"#000000\">samples = 1</text>\n<text text-anchor=\"middle\" x=\"2218.5\" y=\"-22.8\" font-family=\"Helvetica,sans-Serif\" font-size=\"14.00\" fill=\"#000000\">value = [1, 0]</text>\n<text text-anchor=\"middle\" x=\"2218.5\" y=\"-7.8\" font-family=\"Helvetica,sans-Serif\" font-size=\"14.00\" fill=\"#000000\">class = Yes</text>\n</g>\n<!-- 60&#45;&gt;62 -->\n<g id=\"edge62\" class=\"edge\">\n<title>60&#45;&gt;62</title>\n<path fill=\"none\" stroke=\"#000000\" d=\"M2182.0971,-103.9815C2186.6388,-95.2504 2191.4402,-86.0202 2196.0137,-77.2281\"/>\n<polygon fill=\"#000000\" stroke=\"#000000\" points=\"2199.1669,-78.7504 2200.6767,-68.2637 2192.9569,-75.52 2199.1669,-78.7504\"/>\n</g>\n</g>\n</svg>\n"
          },
          "metadata": {},
          "execution_count": 85
        }
      ]
    },
    {
      "cell_type": "markdown",
      "source": [
        "At the top of the ree is the root node. Observations that satisfy this criteria printed at the top of the box are moc=ved to one branch while the rest are moved to the other. For the displayed tree above, node splits were chosen to lead an overall reduction of the entropy value. The nodes that do not branch off are called the terminal nodes or leaf nodes."
      ],
      "metadata": {
        "id": "rnhdsEm5gfA3"
      }
    },
    {
      "cell_type": "code",
      "source": [
        "from sklearn.tree import export_graphviz\n",
        "from six import StringIO\n",
        "# from sklearn.externals.six import StringIO  \n",
        "from IPython.display import Image  \n",
        "import pydotplus\n",
        "dot_data = StringIO()\n",
        "export_graphviz(clf, out_file=dot_data,  \n",
        "                filled=True, rounded=True,\n",
        "                special_characters=True,feature_names =['GENDER', 'AGE', 'SMOKING', 'YELLOW_FINGERS', 'ANXIETY',\n",
        "                                                        'PEER_PRESSURE', 'CHRONIC DISEASE', 'FATIGUE ', 'ALLERGY ', 'WHEEZING',\n",
        "                                                        'ALCOHOL CONSUMING', 'COUGHING', 'SHORTNESS OF BREATH',\n",
        "                                                        'SWALLOWING DIFFICULTY', 'CHEST PAIN'] ,class_names=['No','Yes'])\n",
        "graph = pydotplus.graph_from_dot_data(dot_data.getvalue())  \n",
        "Image(graph.create_png())\n",
        "\n",
        "graph.write_png('tree.png')"
      ],
      "metadata": {
        "colab": {
          "base_uri": "https://localhost:8080/"
        },
        "id": "Adhz2syOk10Q",
        "outputId": "3ac4ee9a-3484-43b7-eb18-dd78143aa4a1"
      },
      "execution_count": 86,
      "outputs": [
        {
          "output_type": "execute_result",
          "data": {
            "text/plain": [
              "True"
            ]
          },
          "metadata": {},
          "execution_count": 86
        }
      ]
    }
  ]
}